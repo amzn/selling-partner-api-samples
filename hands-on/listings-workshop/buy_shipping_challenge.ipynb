{
 "cells": [
  {
   "cell_type": "markdown",
   "id": "a6079753-c256-4c58-a039-42dfeed7e412",
   "metadata": {},
   "source": [
    "# 🚢 Ship Happens"
   ]
  },
  {
   "cell_type": "markdown",
   "id": "ec3197af-284d-4698-bd83-aafd2c002768",
   "metadata": {},
   "source": [
    "## 1️⃣ Intro\n",
    "### 🚚🧦🚀 The Great SoloSock Shipping Challenge\n",
    "\n",
    "Welcome, brave SP-API developer!\n",
    "\n",
    "Our hero, Harsh, runs SoloSock, the hottest new mismatched sock business. Sales are soaring, but there’s two problems:\n",
    "\n",
    "His printer only supports PNG label formats. No ZPL. No PDF. Just pure, pixel-perfect PNG.\n",
    "\n",
    "_And guess what?_\n",
    "\n",
    "Today, Chris “The Fulfillment Guru” Khoury placed an urgent order from Debugville. Harsh needs to get that order delivered ASAP. Only the fastest shipping rate will do!\n",
    "\n",
    "But his Buy Shipping script is broken! 💀\n",
    "\n",
    "Harsh needs your help. His Buy Shipping script is broken, and he can’t ship SoloSocks.\n",
    "\n",
    "\n",
    "Fix the code below so the label is generated successfully.\n"
   ]
  },
  {
   "cell_type": "markdown",
   "id": "5737ef86-44a5-4369-bd31-909bced8f69e",
   "metadata": {},
   "source": [
    "### 🛠️ Your Mission\n",
    "\n",
    "1. Get Rates – Fix the script so it pulls available shipping rates.\n",
    "\n",
    "2. Pick the Fastest Rate – From the list of rates, choose the one with the earliest delivery promise.\n",
    "\n",
    "3. Ensure PNG Format – The printer can only use labels in PNG format.\n",
    "\n",
    "4. Fix the Purchase Request – Plug in the right rateId and format details to get the label generated.\n",
    "\n",
    "5. Celebrate like a Fulfillment Wizard."
   ]
  },
  {
   "cell_type": "markdown",
   "id": "b3b87ce9-21b6-4940-9ec0-a08d302ef52a",
   "metadata": {},
   "source": [
    "## 2️⃣ Setup\n",
    "### 🧰 Installing Selling Partner API SDK\n",
    "\n",
    "The **Amazon Selling Partner API SDK** is an official Amazon library that simplifies integration with Amazon’s SP-API. It handles things like authentication, request signing, and response parsing — so you can focus on building your solution instead of dealing with low-level API mechanics.\n",
    "\n",
    "With this SDK, you can easily access endpoints like Orders, Listings, Reports, Feeds, and **Buy Shipping** using clean, structured Python code.\n",
    "\n",
    "📚 Learn more or explore the source on GitHub: https://github.com/amzn/selling-partner-api-sdk/tree/main\n",
    "\n",
    "\n",
    "📦 To install the SDK, run the below block 👇\n",
    "\n",
    "\n"
   ]
  },
  {
   "cell_type": "code",
   "execution_count": null,
   "id": "ef145f6d-ce8c-4c21-804e-254ca8190350",
   "metadata": {},
   "outputs": [],
   "source": [
    "pip install amzn-sp-api"
   ]
  },
  {
   "cell_type": "markdown",
   "id": "19e8a5d2-9b3c-43c3-87f8-45836162fa41",
   "metadata": {},
   "source": [
    "---"
   ]
  },
  {
   "cell_type": "markdown",
   "id": "a211a4d3-fcb5-495e-b7c3-8b144f6a9844",
   "metadata": {},
   "source": [
    "## 3️⃣ The Shipping Challenge\n",
    "### 🐛 Mocking the SP-API server response\n",
    "\n",
    "Harsh doesn’t have real API credentials — but luckily, the Amazon SP API team built a mock server just for this scenario.\n",
    "\n",
    "Below you will find `mock_oauth_endpoint` and `mock_endpoint` variables. Use the endpoints below to test without real tokens:"
   ]
  },
  {
   "cell_type": "code",
   "execution_count": null,
   "id": "1a53739d-43ce-4f3f-8db9-e223617f6e96",
   "metadata": {},
   "outputs": [],
   "source": [
    "# Configuration for mock SP-API\n",
    "mock_oauth_endpoint = \"http://44.246.246.165:80/auth/o2/token\"\n",
    "mock_endpoint = \"http://44.246.246.165:80\"\n",
    "print(\"MockEndpoint: \" + mock_endpoint)"
   ]
  },
  {
   "cell_type": "markdown",
   "id": "f6d5c552-3513-4ebe-9285-41b276030b78",
   "metadata": {},
   "source": [
    "Now let's configure the SDK:"
   ]
  },
  {
   "cell_type": "code",
   "execution_count": null,
   "id": "a87a5d3e-9624-476e-9a77-44cf5f603ef2",
   "metadata": {},
   "outputs": [],
   "source": [
    "from spapi import SPAPIConfig, SPAPIClient, ApiException, ShippingApi\n",
    "from spapi.models.shipping_v2 import GetRatesResponse, PurchaseShipmentResponse\n",
    "\n",
    "config = SPAPIConfig(\n",
    "    client_id=\"Harsh\",\n",
    "    client_secret=\"Socker\",\n",
    "    refresh_token=\"FakeToken\",\n",
    "    region=\"NA\"\n",
    ")\n",
    "client = SPAPIClient(config, endpoint=mock_endpoint, oauth_endpoint=mock_oauth_endpoint)\n",
    "print(\"Succesfully created SP-API client\")"
   ]
  },
  {
   "cell_type": "markdown",
   "id": "8606a779-4ff2-45b8-9546-99112b6af2fe",
   "metadata": {},
   "source": [
    "---"
   ]
  },
  {
   "cell_type": "markdown",
   "id": "355c3cdb-8081-4fb6-b39d-4751cf6ad017",
   "metadata": {},
   "source": [
    "### 📦 Step 0: Let’s get the order information. You need to create the shipment for orderId 111-1111111-1111111"
   ]
  },
  {
   "cell_type": "code",
   "execution_count": null,
   "id": "1399e8fb-faac-4369-8a42-9f6ae3e87b99",
   "metadata": {},
   "outputs": [],
   "source": [
    "from spapi import OrdersV0Api\n",
    "from spapi.models.orders_v0 import GetOrdersResponse\n",
    "\n",
    "order_api = OrdersV0Api(client.api_client)\n",
    "print(\"Succesfully created order API\")\n",
    "#TODO here\n",
    "get_order_response = order_api.get_order()\n",
    "print(get_order_response.payload)"
   ]
  },
  {
   "cell_type": "markdown",
   "id": "e6e525de-f5bd-4512-aee0-314316edeadc",
   "metadata": {},
   "source": [
    "### 📦 Step 1: Let’s fetch the available rates!"
   ]
  },
  {
   "cell_type": "code",
   "execution_count": null,
   "id": "688b5216-ce3a-4b7b-8b1c-c98fef5f1555",
   "metadata": {},
   "outputs": [],
   "source": [
    "shipping_api = ShippingApi(client.api_client)\n",
    "print(\"Succesfully created shipping API\")"
   ]
  },
  {
   "cell_type": "markdown",
   "id": "b5bec506-ef29-4a35-9427-d36f987b6569",
   "metadata": {},
   "source": [
    "The first thing is get a list of available shipping options. He knows where he’s shipping from (SoloSock HQ) and to (Chris in Debugville), so we’ll use that information to call the getRates endpoint.\n",
    "\n",
    "This step is like going to the post office and asking, “Hey, how what options and how much will it cost to ship this package, and how fast can you get it there?”\n",
    "\n",
    "Use the code below to structure the request:"
   ]
  },
  {
   "cell_type": "code",
   "execution_count": null,
   "id": "c8d26053-3778-45bb-a3b1-3491e81526e1",
   "metadata": {},
   "outputs": [],
   "source": [
    "def get_rates_request():\n",
    "    return {\n",
    "        \"shipFrom\": {\n",
    "            \"name\": \"Harsh The Sock Hero\",\n",
    "            \"addressLine1\": \"Laundry Room B2\",\n",
    "            \"city\": \"Seattle\",\n",
    "            \"stateOrRegion\": \"IM\",\n",
    "            \"postalCode\": \"40404\",\n",
    "            \"countryCode\": \"US\",\n",
    "            \"companyName\": \"SoloSock Inc.\",\n",
    "            \"phoneNumber\": \"+1-867-5309\"\n",
    "        },\n",
    "        \"shipTo\": {\n",
    "            \"name\": \"Chris 'Fulfillment Guru' Khoury\",\n",
    "            \"addressLine1\": \"Amazon API Temple\",\n",
    "            \"addressLine2\": \"Suite 404 – Socks Not Found\",\n",
    "            \"city\": \"Debugville\",\n",
    "            \"stateOrRegion\": \"WA\",\n",
    "            \"postalCode\": \"98199\",\n",
    "            \"countryCode\": \"US\"\n",
    "        },\n",
    "        \"packages\": [\n",
    "            {\n",
    "                \"dimensions\": {\"length\": 6, \"width\": 4, \"height\": 2, \"unit\": \"INCH\"},\n",
    "                \"weight\": {\"unit\": \"GRAM\", \"value\": 120},\n",
    "                \"items\": [{\n",
    "                    \"itemIdentifier\": \"111111111111111\",\n",
    "                    \"quantity\": 1,\n",
    "                    \"itemValue\": {\"unit\": \"USD\", \"value\": \"7.99\"},\n",
    "                    \"weight\": {\"unit\": \"GRAM\", \"value\": 120}\n",
    "                }],\n",
    "                \"insuredValue\": {\"unit\": \"USD\", \"value\": \"7.99\"},\n",
    "                \"packageClientReferenceId\": \"Order_111-1111111-1111111_Package\"\n",
    "            }\n",
    "        ],\n",
    "        \"channelDetails\": {\n",
    "            \"channelType\": \"AMAZON\",\n",
    "            \"amazonOrderDetails\": {\"orderId\": \"111-1111111-1111111\"}\n",
    "        }\n",
    "    }"
   ]
  },
  {
   "cell_type": "markdown",
   "id": "f6f83b37-26c6-422b-beb2-0072e954e234",
   "metadata": {},
   "source": [
    "---"
   ]
  },
  {
   "cell_type": "markdown",
   "id": "c2aa4c4f-ff91-4c63-8425-3f97bfb1ef0b",
   "metadata": {},
   "source": [
    "Once the request is structured, you’ll call the get_rates() function to fetch those shipping options: Here you may get error saying that you missing some attributes. Please feel the missing attributes correctly"
   ]
  },
  {
   "cell_type": "code",
   "execution_count": null,
   "id": "ac422beb-1654-4eac-b773-52c8c7217cfc",
   "metadata": {},
   "outputs": [],
   "source": [
    "get_rates_response = GetRatesResponse(shipping_api.get_rates(body=get_rates_request()).payload)\n",
    "request_token = get_rates_response.payload.request_token\n",
    "print(request_token)"
   ]
  },
  {
   "cell_type": "markdown",
   "id": "de3642ff-5be0-4955-98fa-ea78d7a61fb8",
   "metadata": {},
   "source": [
    "🧠 The `request_token` is important — it ties the rates to your purchase and will be used for make purchasement at later steps"
   ]
  },
  {
   "cell_type": "markdown",
   "id": "5731e604-a936-42e9-9da0-20649170e8d6",
   "metadata": {},
   "source": [
    "---"
   ]
  },
  {
   "cell_type": "markdown",
   "id": "b36a9131-6ff3-4d7e-b7a9-b7289380e9b3",
   "metadata": {},
   "source": [
    "### 🕵️  Step 2: Let’s inspect what’s available!"
   ]
  },
  {
   "cell_type": "markdown",
   "id": "a967ae0c-1a7f-44e0-b372-261f0c6d015f",
   "metadata": {},
   "source": [
    "Now that we’ve got a list of potential shipping options, it’s time to analyze them. We’ll print out details for each rate, including:\n",
    "\n",
    "- The rate ID\n",
    "- The carrier\n",
    "- The total cost\n",
    "- The available label formats\n",
    "- The estimated delivery window\n",
    "\n",
    "This is where Harsh wants your help to pick the fastest rate — the one that delivers the soonest.\n",
    "\n",
    "Run this function to view them:"
   ]
  },
  {
   "cell_type": "code",
   "execution_count": null,
   "id": "66d83996-5ef6-457c-854d-19042da45ddf",
   "metadata": {},
   "outputs": [],
   "source": [
    "def print_returned_rates(rates, full_response=False):\n",
    "    print(\"Available Shipment Rates:\")\n",
    "    if full_response:\n",
    "        print(\"getRates Full Response Payload:\", rates)\n",
    "    else:\n",
    "        for i, rate in enumerate(rates):\n",
    "            for doc_format in rate.supported_document_specifications:\n",
    "                print(f\"[{i}] rateId: {rate.rate_id} \"\n",
    "                      f\"-- carrierName: {rate.carrier_id} \"\n",
    "                      f\"-- totalCharge: {rate.total_charge.value} \"\n",
    "                      f\"-- availableFormat: {doc_format.format} \"\n",
    "                      f\"-- deliveryWindow: {rate.promise}\")\n",
    "\n",
    "print_returned_rates(get_rates_response.payload.rates, full_response=False)"
   ]
  },
  {
   "cell_type": "markdown",
   "id": "6c2e5915-477f-4810-9e24-6140165491ab",
   "metadata": {},
   "source": [
    "You’ll see the index in square brackets []. That will come in handy for the next step.\n",
    "\n",
    "🔍 Pro tip: Make sure to pick a rate that supports PNG format. Harsh’s printer doesn’t speak ZPL."
   ]
  },
  {
   "cell_type": "markdown",
   "id": "3df6856d-bb86-4f54-9165-4d44e168ecf6",
   "metadata": {},
   "source": [
    "---"
   ]
  },
  {
   "cell_type": "markdown",
   "id": "b1517658-d728-422c-8de3-8e16c442ae03",
   "metadata": {},
   "source": [
    "### 🕵️  Step 3: Time to choose your rate!"
   ]
  },
  {
   "cell_type": "markdown",
   "id": "4a8f395c-29c3-44bb-9f3d-2785df6404b0",
   "metadata": {},
   "source": [
    "From the list of available shipping options, it’s your job to select the fastest rate that also supports the PNG label format. You can do this manually by checking the deliveryWindow and the format printed earlier.\n",
    "\n",
    "Once you know which one to pick, set it like this:"
   ]
  },
  {
   "cell_type": "code",
   "execution_count": null,
   "id": "09564583-1d88-4ddd-ae13-852cb8003ca4",
   "metadata": {},
   "outputs": [],
   "source": [
    "# TODO here\n",
    "idx = \n",
    "selected_rate = get_rates_response.payload.rates[idx]"
   ]
  },
  {
   "cell_type": "markdown",
   "id": "52eee8fa-9d3e-49d6-b986-dd83f43d0cd5",
   "metadata": {},
   "source": [
    "⚠️ Make sure the selected rate supports PNG — or the final label won’t be printable!"
   ]
  },
  {
   "cell_type": "markdown",
   "id": "bedfcd2f-11b9-47e8-b435-56f5bfec91e4",
   "metadata": {},
   "source": [
    "---"
   ]
  },
  {
   "cell_type": "markdown",
   "id": "24b6ed56-fe5a-473a-bc3d-114270706cf5",
   "metadata": {},
   "source": [
    "### 🧾 Step 4: Make the purchase and get that label!"
   ]
  },
  {
   "cell_type": "markdown",
   "id": "2a0bf053-cf2d-43e5-ae87-bf7bcbe30e20",
   "metadata": {},
   "source": [
    "You’ve selected the rate. You’ve got the request token. Now it’s time to purchase the shipment and retrieve the shipping label in PNG format."
   ]
  },
  {
   "cell_type": "markdown",
   "id": "54962e39-4c9e-48d0-8006-0b3b6bcdea41",
   "metadata": {},
   "source": [
    "This is where you take all the magical ingredients you've gathered:\n",
    "\n",
    "- The selected shipping rateId\n",
    "- The label format (Harsh’s printer is allergic to anything but PNG)\n",
    "\n",
    "You'll combine them all into one beautifully structured request. If you mess this part up, your label might come back in ZPL and Harsh’s printer will scream. 😱\n",
    "\n",
    "So double-check the format, make sure it was listed in the supported formats from getRates. This is the final step before your label appears. You got this. 🧦📦"
   ]
  },
  {
   "cell_type": "code",
   "execution_count": null,
   "id": "d2416aee-479e-4af4-b353-f4dd4d3209ad",
   "metadata": {},
   "outputs": [],
   "source": [
    "def extract_label_details(rate_model):\n",
    "    size = None\n",
    "    option = None\n",
    "\n",
    "    for spec in rate_model.supported_document_specifications:\n",
    "        if spec.format == \"PNG\":\n",
    "            size = spec.size\n",
    "            option = spec.print_options[0]\n",
    "    return size, option\n",
    "\n",
    "def purchase_shipment_request(rate, token):\n",
    "    label_size, print_options = extract_label_details(rate)\n",
    "\n",
    "    return {\n",
    "        \"rateId\": rate.rate_id,\n",
    "        \"requestedDocumentSpecification\": {\n",
    "            \"format\": \"PNG\",\n",
    "            \"size\": label_size,\n",
    "            \"needFileJoining\": print_options,\n",
    "            \"requestedDocumentTypes\": print_options,\n",
    "            \"pageLayout\": print_options\n",
    "        },\n",
    "        \"requestedValueAddedServices\": [\n",
    "            {\"id\": rate.available_value_added_service_groups[0].value_added_services[0].id}\n",
    "        ],\n",
    "        \"requestToken\": token\n",
    "    }"
   ]
  },
  {
   "cell_type": "markdown",
   "id": "3cbd2096-0ff9-4694-a163-503be4d50794",
   "metadata": {},
   "source": [
    "---"
   ]
  },
  {
   "cell_type": "markdown",
   "id": "93fdf6eb-cd91-4a00-a8b2-77df307159c4",
   "metadata": {},
   "source": [
    "You've selected the fastest rate. You've crafted the perfect purchase request. Now it's time to send it off to SP-API and retrieve the PNG shipping label that Harsh’s printer will actually accept.\n",
    "\n",
    "Run the code below to purchase the shipment using the request you just built. If all goes well, you’ll see:\n",
    "\n",
    "- A shiny shipmentId\n",
    "- A PNG label document\n",
    "- And a very relieved sock founder\n",
    "\n",
    "😬 Got an error? Don't panic. It probably means something in your request was off — maybe the format wasn’t supported or a value was missing.\n",
    "\n",
    "✏️ Go back, tweak the `purchase_shipment_request()` function, and rerun both the request and the purchase blocks."
   ]
  },
  {
   "cell_type": "code",
   "execution_count": null,
   "id": "eda173ea-1924-49d6-80a5-390117e5a71d",
   "metadata": {},
   "outputs": [],
   "source": [
    " # Purchasing Shipment\n",
    "#print(purchase_shipment_request(rate=selected_rate, token=request_token))\n",
    "purchase_response = shipping_api.purchase_shipment(body=purchase_shipment_request(rate=selected_rate, token=request_token))\n",
    "print(purchase_response)\n",
    "\n",
    "#shipment = purchase_response.payload\n",
    "# print(\"📦 Shipment ID:\", shipment.shipment_id)\n",
    "\n",
    "# for detail in shipment.package_document_details:\n",
    "#     for doc in detail.package_documents:\n",
    "#         print(\"🧾 Document Format:\", doc.format)\n",
    "#         print(\"📄 Document Contents:\", doc.contents)"
   ]
  },
  {
   "cell_type": "markdown",
   "id": "5c42e8d3-458c-42df-9954-a327fbf89fae",
   "metadata": {},
   "source": [
    "---"
   ]
  },
  {
   "cell_type": "markdown",
   "id": "1e506cca-e8e3-4b3b-8f2d-2b5decaefe5f",
   "metadata": {},
   "source": [
    "## 🏁 Challenge Complete!\n",
    "\n",
    "🎉 You did it! You fixed Harsh’s broken Buy Shipping flow and got a working PNG label. The socks are en route, and Debugville is saved.\n",
    "\n",
    "You’ve now used:\n",
    "\n",
    "- get_rates() to fetch shipping options\n",
    "- Parsed and selected the best rate\n",
    "- Ensured label compatibility with Harsh’s printer\n",
    "- Called purchase_shipment() with correct parameters\n",
    "- Printed out your beautiful label response"
   ]
  }
 ],
 "metadata": {
  "kernelspec": {
   "display_name": "Python [conda env:base] *",
   "language": "python",
   "name": "conda-base-py"
  },
  "language_info": {
   "codemirror_mode": {
    "name": "ipython",
    "version": 3
   },
   "file_extension": ".py",
   "mimetype": "text/x-python",
   "name": "python",
   "nbconvert_exporter": "python",
   "pygments_lexer": "ipython3",
   "version": "3.12.7"
  }
 },
 "nbformat": 4,
 "nbformat_minor": 5
}
