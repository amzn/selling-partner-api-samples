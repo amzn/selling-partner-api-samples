{
 "cells": [
  {
   "cell_type": "markdown",
   "id": "a6079753-c256-4c58-a039-42dfeed7e412",
   "metadata": {},
   "source": [
    "# Challenge 3 - High Refund"
   ]
  },
  {
   "cell_type": "markdown",
   "id": "ec3197af-284d-4698-bd83-aafd2c002768",
   "metadata": {},
   "source": [
    "## 1️⃣ Intro\n",
    "### 🕵️‍♀️ Investigate High Refund Listings\n",
    "\n",
    "Hello, fellow SP-API experts!\n",
    "\n",
    "\n",
    "I am writing to you on behalf of the 🪄ListingsWizard company. <br />\n",
    "Thanks to your previous work, our company sales have been performing as expected. However, there seems to be signs of **unusually high** refund rate amongst our listings. <br />\n",
    "Can you please investigate and recover the sales? My team has provided data access below to assist your investigation.\n",
    "\n",
    "\n",
    "Yours,\n",
    "ListingsWizard\n",
    "\n",
    "---\n",
    "\n",
    "_* The following scenario uses a mock server and mock data. No real data is used._"
   ]
  },
  {
   "cell_type": "markdown",
   "id": "5853fdca-c758-44f7-8780-d6905e810089",
   "metadata": {},
   "source": [
    "### Your Quest\n",
    "1. Analyze data 📈\n",
    "2. Identify root cause 👀\n",
    "3. Submit a fix 🔧\n",
    "\n",
    "On correct submission, you will receive a passcode. First person to receive the correct passcode will be the **challenge winner** 👑\n"
   ]
  },
  {
   "cell_type": "markdown",
   "id": "b3b87ce9-21b6-4940-9ec0-a08d302ef52a",
   "metadata": {},
   "source": [
    "## 2️⃣ Setup\n",
    "### 🧰 Installing Selling Partner API SDK\n",
    "\n",
    "The **Amazon Selling Partner API SDK** is an official Amazon library that simplifies integration with Amazon’s SP-API. It handles things like authentication, request signing, and response parsing — so you can focus on building your solution instead of dealing with low-level API mechanics.\n",
    "\n",
    "With this SDK, you can easily access endpoints like Orders, Listings, Reports, Feeds, and **Buy Shipping** using clean, structured Python code.\n",
    "\n",
    "📚 Learn more or explore the source on GitHub: https://github.com/amzn/selling-partner-api-sdk/tree/main\n",
    "\n",
    "\n",
    "📦 To install the SDK, run the below block 👇"
   ]
  },
  {
   "cell_type": "code",
   "execution_count": 2,
   "id": "ef145f6d-ce8c-4c21-804e-254ca8190350",
   "metadata": {},
   "outputs": [
    {
     "name": "stdout",
     "output_type": "stream",
     "text": [
      "Looking in indexes: https://pypi.org/simple, https://plugin.us-east-1.prod.workshops.aws\n",
      "Requirement already satisfied: amzn-sp-api in /Users/weilingg/.local/share/mise/installs/python/3.12.3/lib/python3.12/site-packages (1.0.3)\n",
      "Requirement already satisfied: pandas in /Users/weilingg/.local/share/mise/installs/python/3.12.3/lib/python3.12/site-packages (2.3.0)\n",
      "Requirement already satisfied: matplotlib in /Users/weilingg/.local/share/mise/installs/python/3.12.3/lib/python3.12/site-packages (3.10.3)\n",
      "Requirement already satisfied: urllib3<3.0.0,>=2.1.0 in /Users/weilingg/.local/share/mise/installs/python/3.12.3/lib/python3.12/site-packages (from amzn-sp-api) (2.2.1)\n",
      "Requirement already satisfied: certifi>=2025.1.31 in /Users/weilingg/.local/share/mise/installs/python/3.12.3/lib/python3.12/site-packages (from amzn-sp-api) (2025.6.15)\n",
      "Requirement already satisfied: requests>=2.32.3 in /Users/weilingg/.local/share/mise/installs/python/3.12.3/lib/python3.12/site-packages (from amzn-sp-api) (2.32.3)\n",
      "Requirement already satisfied: six>=1.17.0 in /Users/weilingg/.local/share/mise/installs/python/3.12.3/lib/python3.12/site-packages (from amzn-sp-api) (1.17.0)\n",
      "Requirement already satisfied: numpy>=1.26.0 in /Users/weilingg/.local/share/mise/installs/python/3.12.3/lib/python3.12/site-packages (from pandas) (2.3.1)\n",
      "Requirement already satisfied: python-dateutil>=2.8.2 in /Users/weilingg/.local/share/mise/installs/python/3.12.3/lib/python3.12/site-packages (from pandas) (2.9.0.post0)\n",
      "Requirement already satisfied: pytz>=2020.1 in /Users/weilingg/.local/share/mise/installs/python/3.12.3/lib/python3.12/site-packages (from pandas) (2025.2)\n",
      "Requirement already satisfied: tzdata>=2022.7 in /Users/weilingg/.local/share/mise/installs/python/3.12.3/lib/python3.12/site-packages (from pandas) (2025.2)\n",
      "Requirement already satisfied: contourpy>=1.0.1 in /Users/weilingg/.local/share/mise/installs/python/3.12.3/lib/python3.12/site-packages (from matplotlib) (1.3.2)\n",
      "Requirement already satisfied: cycler>=0.10 in /Users/weilingg/.local/share/mise/installs/python/3.12.3/lib/python3.12/site-packages (from matplotlib) (0.12.1)\n",
      "Requirement already satisfied: fonttools>=4.22.0 in /Users/weilingg/.local/share/mise/installs/python/3.12.3/lib/python3.12/site-packages (from matplotlib) (4.58.4)\n",
      "Requirement already satisfied: kiwisolver>=1.3.1 in /Users/weilingg/.local/share/mise/installs/python/3.12.3/lib/python3.12/site-packages (from matplotlib) (1.4.8)\n",
      "Requirement already satisfied: packaging>=20.0 in /Users/weilingg/.local/share/mise/installs/python/3.12.3/lib/python3.12/site-packages (from matplotlib) (25.0)\n",
      "Requirement already satisfied: pillow>=8 in /Users/weilingg/.local/share/mise/installs/python/3.12.3/lib/python3.12/site-packages (from matplotlib) (11.2.1)\n",
      "Requirement already satisfied: pyparsing>=2.3.1 in /Users/weilingg/.local/share/mise/installs/python/3.12.3/lib/python3.12/site-packages (from matplotlib) (3.2.3)\n",
      "Requirement already satisfied: charset-normalizer<4,>=2 in /Users/weilingg/.local/share/mise/installs/python/3.12.3/lib/python3.12/site-packages (from requests>=2.32.3->amzn-sp-api) (3.3.2)\n",
      "Requirement already satisfied: idna<4,>=2.5 in /Users/weilingg/.local/share/mise/installs/python/3.12.3/lib/python3.12/site-packages (from requests>=2.32.3->amzn-sp-api) (3.7)\n",
      "\n",
      "\u001b[1m[\u001b[0m\u001b[34;49mnotice\u001b[0m\u001b[1;39;49m]\u001b[0m\u001b[39;49m A new release of pip is available: \u001b[0m\u001b[31;49m24.0\u001b[0m\u001b[39;49m -> \u001b[0m\u001b[32;49m25.1.1\u001b[0m\n",
      "\u001b[1m[\u001b[0m\u001b[34;49mnotice\u001b[0m\u001b[1;39;49m]\u001b[0m\u001b[39;49m To update, run: \u001b[0m\u001b[32;49mpython3.12 -m pip install --upgrade pip\u001b[0m\n",
      "Note: you may need to restart the kernel to use updated packages.\n"
     ]
    }
   ],
   "source": [
    "pip install amzn-sp-api pandas matplotlib"
   ]
  },
  {
   "cell_type": "markdown",
   "id": "19e8a5d2-9b3c-43c3-87f8-45836162fa41",
   "metadata": {},
   "source": [
    "---"
   ]
  },
  {
   "cell_type": "markdown",
   "id": "904848bf-764a-4f0e-a5f1-9ea1da821cdc",
   "metadata": {},
   "source": [
    "## 3️⃣ Let's Data Kiosk!\n",
    "\n",
    "Data Kiosk lets you submit GraphQL queries from a variety of schemas to help manage selling partner businesses. You can use the following SDK to call Data Kiosk API.\n",
    "\n",
    "\n",
    "### 🔍 What is Data Kiosk?\n",
    "\n",
    "It’s your all-access pass to query Amazon datasets like sales, traffic, and profitability using GraphQL.\n",
    "\n",
    "You can:\n",
    "\n",
    "- Submit custom queries\n",
    "- Check their status\n",
    "- Download results\n",
    "  \n",
    "🙌 Time to get seller data with the power of GraphQL!\n",
    "\n"
   ]
  },
  {
   "cell_type": "markdown",
   "id": "5d691dfb-507c-43f9-95d7-5e7caf52584a",
   "metadata": {},
   "source": [
    "---"
   ]
  },
  {
   "cell_type": "markdown",
   "id": "a211a4d3-fcb5-495e-b7c3-8b144f6a9844",
   "metadata": {},
   "source": [
    "### 🐛 Mocking the SDK\n",
    "\n",
    "\n",
    "Luckily the Amazon Solution Architect team created a mock server that can replicate the API responses without having credentials.\n",
    "\n",
    "Below you will find `mock_oauth_endpoint` and `mock_endpoint` variables that can be used to skip the credentials."
   ]
  },
  {
   "cell_type": "code",
   "execution_count": 3,
   "id": "4b7d9770-ccdc-4edd-a910-242916c578f7",
   "metadata": {},
   "outputs": [
    {
     "name": "stderr",
     "output_type": "stream",
     "text": [
      "2025-07-01 09:19:42,526 ERROR Token request failed.\n",
      "ERROR:spapi.auth.lwa_request:Token request failed.\n"
     ]
    },
    {
     "ename": "LwaException",
     "evalue": "LWA Error - Code: server_error, Message: Token request failed.",
     "output_type": "error",
     "traceback": [
      "\u001b[31m---------------------------------------------------------------------------\u001b[39m",
      "\u001b[31mConnectionRefusedError\u001b[39m                    Traceback (most recent call last)",
      "\u001b[36mFile \u001b[39m\u001b[32m~/.local/share/mise/installs/python/3.12.3/lib/python3.12/site-packages/urllib3/connection.py:198\u001b[39m, in \u001b[36mHTTPConnection._new_conn\u001b[39m\u001b[34m(self)\u001b[39m\n\u001b[32m    197\u001b[39m \u001b[38;5;28;01mtry\u001b[39;00m:\n\u001b[32m--> \u001b[39m\u001b[32m198\u001b[39m     sock = \u001b[43mconnection\u001b[49m\u001b[43m.\u001b[49m\u001b[43mcreate_connection\u001b[49m\u001b[43m(\u001b[49m\n\u001b[32m    199\u001b[39m \u001b[43m        \u001b[49m\u001b[43m(\u001b[49m\u001b[38;5;28;43mself\u001b[39;49m\u001b[43m.\u001b[49m\u001b[43m_dns_host\u001b[49m\u001b[43m,\u001b[49m\u001b[43m \u001b[49m\u001b[38;5;28;43mself\u001b[39;49m\u001b[43m.\u001b[49m\u001b[43mport\u001b[49m\u001b[43m)\u001b[49m\u001b[43m,\u001b[49m\n\u001b[32m    200\u001b[39m \u001b[43m        \u001b[49m\u001b[38;5;28;43mself\u001b[39;49m\u001b[43m.\u001b[49m\u001b[43mtimeout\u001b[49m\u001b[43m,\u001b[49m\n\u001b[32m    201\u001b[39m \u001b[43m        \u001b[49m\u001b[43msource_address\u001b[49m\u001b[43m=\u001b[49m\u001b[38;5;28;43mself\u001b[39;49m\u001b[43m.\u001b[49m\u001b[43msource_address\u001b[49m\u001b[43m,\u001b[49m\n\u001b[32m    202\u001b[39m \u001b[43m        \u001b[49m\u001b[43msocket_options\u001b[49m\u001b[43m=\u001b[49m\u001b[38;5;28;43mself\u001b[39;49m\u001b[43m.\u001b[49m\u001b[43msocket_options\u001b[49m\u001b[43m,\u001b[49m\n\u001b[32m    203\u001b[39m \u001b[43m    \u001b[49m\u001b[43m)\u001b[49m\n\u001b[32m    204\u001b[39m \u001b[38;5;28;01mexcept\u001b[39;00m socket.gaierror \u001b[38;5;28;01mas\u001b[39;00m e:\n",
      "\u001b[36mFile \u001b[39m\u001b[32m~/.local/share/mise/installs/python/3.12.3/lib/python3.12/site-packages/urllib3/util/connection.py:85\u001b[39m, in \u001b[36mcreate_connection\u001b[39m\u001b[34m(address, timeout, source_address, socket_options)\u001b[39m\n\u001b[32m     84\u001b[39m \u001b[38;5;28;01mtry\u001b[39;00m:\n\u001b[32m---> \u001b[39m\u001b[32m85\u001b[39m     \u001b[38;5;28;01mraise\u001b[39;00m err\n\u001b[32m     86\u001b[39m \u001b[38;5;28;01mfinally\u001b[39;00m:\n\u001b[32m     87\u001b[39m     \u001b[38;5;66;03m# Break explicitly a reference cycle\u001b[39;00m\n",
      "\u001b[36mFile \u001b[39m\u001b[32m~/.local/share/mise/installs/python/3.12.3/lib/python3.12/site-packages/urllib3/util/connection.py:73\u001b[39m, in \u001b[36mcreate_connection\u001b[39m\u001b[34m(address, timeout, source_address, socket_options)\u001b[39m\n\u001b[32m     72\u001b[39m     sock.bind(source_address)\n\u001b[32m---> \u001b[39m\u001b[32m73\u001b[39m \u001b[43msock\u001b[49m\u001b[43m.\u001b[49m\u001b[43mconnect\u001b[49m\u001b[43m(\u001b[49m\u001b[43msa\u001b[49m\u001b[43m)\u001b[49m\n\u001b[32m     74\u001b[39m \u001b[38;5;66;03m# Break explicitly a reference cycle\u001b[39;00m\n",
      "\u001b[31mConnectionRefusedError\u001b[39m: [Errno 61] Connection refused",
      "\nThe above exception was the direct cause of the following exception:\n",
      "\u001b[31mNewConnectionError\u001b[39m                        Traceback (most recent call last)",
      "\u001b[36mFile \u001b[39m\u001b[32m~/.local/share/mise/installs/python/3.12.3/lib/python3.12/site-packages/urllib3/connectionpool.py:793\u001b[39m, in \u001b[36mHTTPConnectionPool.urlopen\u001b[39m\u001b[34m(self, method, url, body, headers, retries, redirect, assert_same_host, timeout, pool_timeout, release_conn, chunked, body_pos, preload_content, decode_content, **response_kw)\u001b[39m\n\u001b[32m    792\u001b[39m \u001b[38;5;66;03m# Make the request on the HTTPConnection object\u001b[39;00m\n\u001b[32m--> \u001b[39m\u001b[32m793\u001b[39m response = \u001b[38;5;28;43mself\u001b[39;49m\u001b[43m.\u001b[49m\u001b[43m_make_request\u001b[49m\u001b[43m(\u001b[49m\n\u001b[32m    794\u001b[39m \u001b[43m    \u001b[49m\u001b[43mconn\u001b[49m\u001b[43m,\u001b[49m\n\u001b[32m    795\u001b[39m \u001b[43m    \u001b[49m\u001b[43mmethod\u001b[49m\u001b[43m,\u001b[49m\n\u001b[32m    796\u001b[39m \u001b[43m    \u001b[49m\u001b[43murl\u001b[49m\u001b[43m,\u001b[49m\n\u001b[32m    797\u001b[39m \u001b[43m    \u001b[49m\u001b[43mtimeout\u001b[49m\u001b[43m=\u001b[49m\u001b[43mtimeout_obj\u001b[49m\u001b[43m,\u001b[49m\n\u001b[32m    798\u001b[39m \u001b[43m    \u001b[49m\u001b[43mbody\u001b[49m\u001b[43m=\u001b[49m\u001b[43mbody\u001b[49m\u001b[43m,\u001b[49m\n\u001b[32m    799\u001b[39m \u001b[43m    \u001b[49m\u001b[43mheaders\u001b[49m\u001b[43m=\u001b[49m\u001b[43mheaders\u001b[49m\u001b[43m,\u001b[49m\n\u001b[32m    800\u001b[39m \u001b[43m    \u001b[49m\u001b[43mchunked\u001b[49m\u001b[43m=\u001b[49m\u001b[43mchunked\u001b[49m\u001b[43m,\u001b[49m\n\u001b[32m    801\u001b[39m \u001b[43m    \u001b[49m\u001b[43mretries\u001b[49m\u001b[43m=\u001b[49m\u001b[43mretries\u001b[49m\u001b[43m,\u001b[49m\n\u001b[32m    802\u001b[39m \u001b[43m    \u001b[49m\u001b[43mresponse_conn\u001b[49m\u001b[43m=\u001b[49m\u001b[43mresponse_conn\u001b[49m\u001b[43m,\u001b[49m\n\u001b[32m    803\u001b[39m \u001b[43m    \u001b[49m\u001b[43mpreload_content\u001b[49m\u001b[43m=\u001b[49m\u001b[43mpreload_content\u001b[49m\u001b[43m,\u001b[49m\n\u001b[32m    804\u001b[39m \u001b[43m    \u001b[49m\u001b[43mdecode_content\u001b[49m\u001b[43m=\u001b[49m\u001b[43mdecode_content\u001b[49m\u001b[43m,\u001b[49m\n\u001b[32m    805\u001b[39m \u001b[43m    \u001b[49m\u001b[43m*\u001b[49m\u001b[43m*\u001b[49m\u001b[43mresponse_kw\u001b[49m\u001b[43m,\u001b[49m\n\u001b[32m    806\u001b[39m \u001b[43m\u001b[49m\u001b[43m)\u001b[49m\n\u001b[32m    808\u001b[39m \u001b[38;5;66;03m# Everything went great!\u001b[39;00m\n",
      "\u001b[36mFile \u001b[39m\u001b[32m~/.local/share/mise/installs/python/3.12.3/lib/python3.12/site-packages/urllib3/connectionpool.py:496\u001b[39m, in \u001b[36mHTTPConnectionPool._make_request\u001b[39m\u001b[34m(self, conn, method, url, body, headers, retries, timeout, chunked, response_conn, preload_content, decode_content, enforce_content_length)\u001b[39m\n\u001b[32m    495\u001b[39m \u001b[38;5;28;01mtry\u001b[39;00m:\n\u001b[32m--> \u001b[39m\u001b[32m496\u001b[39m     \u001b[43mconn\u001b[49m\u001b[43m.\u001b[49m\u001b[43mrequest\u001b[49m\u001b[43m(\u001b[49m\n\u001b[32m    497\u001b[39m \u001b[43m        \u001b[49m\u001b[43mmethod\u001b[49m\u001b[43m,\u001b[49m\n\u001b[32m    498\u001b[39m \u001b[43m        \u001b[49m\u001b[43murl\u001b[49m\u001b[43m,\u001b[49m\n\u001b[32m    499\u001b[39m \u001b[43m        \u001b[49m\u001b[43mbody\u001b[49m\u001b[43m=\u001b[49m\u001b[43mbody\u001b[49m\u001b[43m,\u001b[49m\n\u001b[32m    500\u001b[39m \u001b[43m        \u001b[49m\u001b[43mheaders\u001b[49m\u001b[43m=\u001b[49m\u001b[43mheaders\u001b[49m\u001b[43m,\u001b[49m\n\u001b[32m    501\u001b[39m \u001b[43m        \u001b[49m\u001b[43mchunked\u001b[49m\u001b[43m=\u001b[49m\u001b[43mchunked\u001b[49m\u001b[43m,\u001b[49m\n\u001b[32m    502\u001b[39m \u001b[43m        \u001b[49m\u001b[43mpreload_content\u001b[49m\u001b[43m=\u001b[49m\u001b[43mpreload_content\u001b[49m\u001b[43m,\u001b[49m\n\u001b[32m    503\u001b[39m \u001b[43m        \u001b[49m\u001b[43mdecode_content\u001b[49m\u001b[43m=\u001b[49m\u001b[43mdecode_content\u001b[49m\u001b[43m,\u001b[49m\n\u001b[32m    504\u001b[39m \u001b[43m        \u001b[49m\u001b[43menforce_content_length\u001b[49m\u001b[43m=\u001b[49m\u001b[43menforce_content_length\u001b[49m\u001b[43m,\u001b[49m\n\u001b[32m    505\u001b[39m \u001b[43m    \u001b[49m\u001b[43m)\u001b[49m\n\u001b[32m    507\u001b[39m \u001b[38;5;66;03m# We are swallowing BrokenPipeError (errno.EPIPE) since the server is\u001b[39;00m\n\u001b[32m    508\u001b[39m \u001b[38;5;66;03m# legitimately able to close the connection after sending a valid response.\u001b[39;00m\n\u001b[32m    509\u001b[39m \u001b[38;5;66;03m# With this behaviour, the received response is still readable.\u001b[39;00m\n",
      "\u001b[36mFile \u001b[39m\u001b[32m~/.local/share/mise/installs/python/3.12.3/lib/python3.12/site-packages/urllib3/connection.py:400\u001b[39m, in \u001b[36mHTTPConnection.request\u001b[39m\u001b[34m(self, method, url, body, headers, chunked, preload_content, decode_content, enforce_content_length)\u001b[39m\n\u001b[32m    399\u001b[39m     \u001b[38;5;28mself\u001b[39m.putheader(header, value)\n\u001b[32m--> \u001b[39m\u001b[32m400\u001b[39m \u001b[38;5;28;43mself\u001b[39;49m\u001b[43m.\u001b[49m\u001b[43mendheaders\u001b[49m\u001b[43m(\u001b[49m\u001b[43m)\u001b[49m\n\u001b[32m    402\u001b[39m \u001b[38;5;66;03m# If we're given a body we start sending that in chunks.\u001b[39;00m\n",
      "\u001b[36mFile \u001b[39m\u001b[32m~/.local/share/mise/installs/python/3.12.3/lib/python3.12/http/client.py:1331\u001b[39m, in \u001b[36mHTTPConnection.endheaders\u001b[39m\u001b[34m(self, message_body, encode_chunked)\u001b[39m\n\u001b[32m   1330\u001b[39m     \u001b[38;5;28;01mraise\u001b[39;00m CannotSendHeader()\n\u001b[32m-> \u001b[39m\u001b[32m1331\u001b[39m \u001b[38;5;28;43mself\u001b[39;49m\u001b[43m.\u001b[49m\u001b[43m_send_output\u001b[49m\u001b[43m(\u001b[49m\u001b[43mmessage_body\u001b[49m\u001b[43m,\u001b[49m\u001b[43m \u001b[49m\u001b[43mencode_chunked\u001b[49m\u001b[43m=\u001b[49m\u001b[43mencode_chunked\u001b[49m\u001b[43m)\u001b[49m\n",
      "\u001b[36mFile \u001b[39m\u001b[32m~/.local/share/mise/installs/python/3.12.3/lib/python3.12/http/client.py:1091\u001b[39m, in \u001b[36mHTTPConnection._send_output\u001b[39m\u001b[34m(self, message_body, encode_chunked)\u001b[39m\n\u001b[32m   1090\u001b[39m \u001b[38;5;28;01mdel\u001b[39;00m \u001b[38;5;28mself\u001b[39m._buffer[:]\n\u001b[32m-> \u001b[39m\u001b[32m1091\u001b[39m \u001b[38;5;28;43mself\u001b[39;49m\u001b[43m.\u001b[49m\u001b[43msend\u001b[49m\u001b[43m(\u001b[49m\u001b[43mmsg\u001b[49m\u001b[43m)\u001b[49m\n\u001b[32m   1093\u001b[39m \u001b[38;5;28;01mif\u001b[39;00m message_body \u001b[38;5;129;01mis\u001b[39;00m \u001b[38;5;129;01mnot\u001b[39;00m \u001b[38;5;28;01mNone\u001b[39;00m:\n\u001b[32m   1094\u001b[39m \n\u001b[32m   1095\u001b[39m     \u001b[38;5;66;03m# create a consistent interface to message_body\u001b[39;00m\n",
      "\u001b[36mFile \u001b[39m\u001b[32m~/.local/share/mise/installs/python/3.12.3/lib/python3.12/http/client.py:1035\u001b[39m, in \u001b[36mHTTPConnection.send\u001b[39m\u001b[34m(self, data)\u001b[39m\n\u001b[32m   1034\u001b[39m \u001b[38;5;28;01mif\u001b[39;00m \u001b[38;5;28mself\u001b[39m.auto_open:\n\u001b[32m-> \u001b[39m\u001b[32m1035\u001b[39m     \u001b[38;5;28;43mself\u001b[39;49m\u001b[43m.\u001b[49m\u001b[43mconnect\u001b[49m\u001b[43m(\u001b[49m\u001b[43m)\u001b[49m\n\u001b[32m   1036\u001b[39m \u001b[38;5;28;01melse\u001b[39;00m:\n",
      "\u001b[36mFile \u001b[39m\u001b[32m~/.local/share/mise/installs/python/3.12.3/lib/python3.12/site-packages/urllib3/connection.py:238\u001b[39m, in \u001b[36mHTTPConnection.connect\u001b[39m\u001b[34m(self)\u001b[39m\n\u001b[32m    237\u001b[39m \u001b[38;5;28;01mdef\u001b[39;00m\u001b[38;5;250m \u001b[39m\u001b[34mconnect\u001b[39m(\u001b[38;5;28mself\u001b[39m) -> \u001b[38;5;28;01mNone\u001b[39;00m:\n\u001b[32m--> \u001b[39m\u001b[32m238\u001b[39m     \u001b[38;5;28mself\u001b[39m.sock = \u001b[38;5;28;43mself\u001b[39;49m\u001b[43m.\u001b[49m\u001b[43m_new_conn\u001b[49m\u001b[43m(\u001b[49m\u001b[43m)\u001b[49m\n\u001b[32m    239\u001b[39m     \u001b[38;5;28;01mif\u001b[39;00m \u001b[38;5;28mself\u001b[39m._tunnel_host:\n\u001b[32m    240\u001b[39m         \u001b[38;5;66;03m# If we're tunneling it means we're connected to our proxy.\u001b[39;00m\n",
      "\u001b[36mFile \u001b[39m\u001b[32m~/.local/share/mise/installs/python/3.12.3/lib/python3.12/site-packages/urllib3/connection.py:213\u001b[39m, in \u001b[36mHTTPConnection._new_conn\u001b[39m\u001b[34m(self)\u001b[39m\n\u001b[32m    212\u001b[39m \u001b[38;5;28;01mexcept\u001b[39;00m \u001b[38;5;167;01mOSError\u001b[39;00m \u001b[38;5;28;01mas\u001b[39;00m e:\n\u001b[32m--> \u001b[39m\u001b[32m213\u001b[39m     \u001b[38;5;28;01mraise\u001b[39;00m NewConnectionError(\n\u001b[32m    214\u001b[39m         \u001b[38;5;28mself\u001b[39m, \u001b[33mf\u001b[39m\u001b[33m\"\u001b[39m\u001b[33mFailed to establish a new connection: \u001b[39m\u001b[38;5;132;01m{\u001b[39;00me\u001b[38;5;132;01m}\u001b[39;00m\u001b[33m\"\u001b[39m\n\u001b[32m    215\u001b[39m     ) \u001b[38;5;28;01mfrom\u001b[39;00m\u001b[38;5;250m \u001b[39m\u001b[34;01me\u001b[39;00m\n\u001b[32m    217\u001b[39m \u001b[38;5;66;03m# Audit hooks are only available in Python 3.8+\u001b[39;00m\n",
      "\u001b[31mNewConnectionError\u001b[39m: <urllib3.connection.HTTPConnection object at 0x1078bb5f0>: Failed to establish a new connection: [Errno 61] Connection refused",
      "\nThe above exception was the direct cause of the following exception:\n",
      "\u001b[31mMaxRetryError\u001b[39m                             Traceback (most recent call last)",
      "\u001b[36mFile \u001b[39m\u001b[32m~/.local/share/mise/installs/python/3.12.3/lib/python3.12/site-packages/requests/adapters.py:667\u001b[39m, in \u001b[36mHTTPAdapter.send\u001b[39m\u001b[34m(self, request, stream, timeout, verify, cert, proxies)\u001b[39m\n\u001b[32m    666\u001b[39m \u001b[38;5;28;01mtry\u001b[39;00m:\n\u001b[32m--> \u001b[39m\u001b[32m667\u001b[39m     resp = \u001b[43mconn\u001b[49m\u001b[43m.\u001b[49m\u001b[43murlopen\u001b[49m\u001b[43m(\u001b[49m\n\u001b[32m    668\u001b[39m \u001b[43m        \u001b[49m\u001b[43mmethod\u001b[49m\u001b[43m=\u001b[49m\u001b[43mrequest\u001b[49m\u001b[43m.\u001b[49m\u001b[43mmethod\u001b[49m\u001b[43m,\u001b[49m\n\u001b[32m    669\u001b[39m \u001b[43m        \u001b[49m\u001b[43murl\u001b[49m\u001b[43m=\u001b[49m\u001b[43murl\u001b[49m\u001b[43m,\u001b[49m\n\u001b[32m    670\u001b[39m \u001b[43m        \u001b[49m\u001b[43mbody\u001b[49m\u001b[43m=\u001b[49m\u001b[43mrequest\u001b[49m\u001b[43m.\u001b[49m\u001b[43mbody\u001b[49m\u001b[43m,\u001b[49m\n\u001b[32m    671\u001b[39m \u001b[43m        \u001b[49m\u001b[43mheaders\u001b[49m\u001b[43m=\u001b[49m\u001b[43mrequest\u001b[49m\u001b[43m.\u001b[49m\u001b[43mheaders\u001b[49m\u001b[43m,\u001b[49m\n\u001b[32m    672\u001b[39m \u001b[43m        \u001b[49m\u001b[43mredirect\u001b[49m\u001b[43m=\u001b[49m\u001b[38;5;28;43;01mFalse\u001b[39;49;00m\u001b[43m,\u001b[49m\n\u001b[32m    673\u001b[39m \u001b[43m        \u001b[49m\u001b[43massert_same_host\u001b[49m\u001b[43m=\u001b[49m\u001b[38;5;28;43;01mFalse\u001b[39;49;00m\u001b[43m,\u001b[49m\n\u001b[32m    674\u001b[39m \u001b[43m        \u001b[49m\u001b[43mpreload_content\u001b[49m\u001b[43m=\u001b[49m\u001b[38;5;28;43;01mFalse\u001b[39;49;00m\u001b[43m,\u001b[49m\n\u001b[32m    675\u001b[39m \u001b[43m        \u001b[49m\u001b[43mdecode_content\u001b[49m\u001b[43m=\u001b[49m\u001b[38;5;28;43;01mFalse\u001b[39;49;00m\u001b[43m,\u001b[49m\n\u001b[32m    676\u001b[39m \u001b[43m        \u001b[49m\u001b[43mretries\u001b[49m\u001b[43m=\u001b[49m\u001b[38;5;28;43mself\u001b[39;49m\u001b[43m.\u001b[49m\u001b[43mmax_retries\u001b[49m\u001b[43m,\u001b[49m\n\u001b[32m    677\u001b[39m \u001b[43m        \u001b[49m\u001b[43mtimeout\u001b[49m\u001b[43m=\u001b[49m\u001b[43mtimeout\u001b[49m\u001b[43m,\u001b[49m\n\u001b[32m    678\u001b[39m \u001b[43m        \u001b[49m\u001b[43mchunked\u001b[49m\u001b[43m=\u001b[49m\u001b[43mchunked\u001b[49m\u001b[43m,\u001b[49m\n\u001b[32m    679\u001b[39m \u001b[43m    \u001b[49m\u001b[43m)\u001b[49m\n\u001b[32m    681\u001b[39m \u001b[38;5;28;01mexcept\u001b[39;00m (ProtocolError, \u001b[38;5;167;01mOSError\u001b[39;00m) \u001b[38;5;28;01mas\u001b[39;00m err:\n",
      "\u001b[36mFile \u001b[39m\u001b[32m~/.local/share/mise/installs/python/3.12.3/lib/python3.12/site-packages/urllib3/connectionpool.py:847\u001b[39m, in \u001b[36mHTTPConnectionPool.urlopen\u001b[39m\u001b[34m(self, method, url, body, headers, retries, redirect, assert_same_host, timeout, pool_timeout, release_conn, chunked, body_pos, preload_content, decode_content, **response_kw)\u001b[39m\n\u001b[32m    845\u001b[39m     new_e = ProtocolError(\u001b[33m\"\u001b[39m\u001b[33mConnection aborted.\u001b[39m\u001b[33m\"\u001b[39m, new_e)\n\u001b[32m--> \u001b[39m\u001b[32m847\u001b[39m retries = \u001b[43mretries\u001b[49m\u001b[43m.\u001b[49m\u001b[43mincrement\u001b[49m\u001b[43m(\u001b[49m\n\u001b[32m    848\u001b[39m \u001b[43m    \u001b[49m\u001b[43mmethod\u001b[49m\u001b[43m,\u001b[49m\u001b[43m \u001b[49m\u001b[43murl\u001b[49m\u001b[43m,\u001b[49m\u001b[43m \u001b[49m\u001b[43merror\u001b[49m\u001b[43m=\u001b[49m\u001b[43mnew_e\u001b[49m\u001b[43m,\u001b[49m\u001b[43m \u001b[49m\u001b[43m_pool\u001b[49m\u001b[43m=\u001b[49m\u001b[38;5;28;43mself\u001b[39;49m\u001b[43m,\u001b[49m\u001b[43m \u001b[49m\u001b[43m_stacktrace\u001b[49m\u001b[43m=\u001b[49m\u001b[43msys\u001b[49m\u001b[43m.\u001b[49m\u001b[43mexc_info\u001b[49m\u001b[43m(\u001b[49m\u001b[43m)\u001b[49m\u001b[43m[\u001b[49m\u001b[32;43m2\u001b[39;49m\u001b[43m]\u001b[49m\n\u001b[32m    849\u001b[39m \u001b[43m\u001b[49m\u001b[43m)\u001b[49m\n\u001b[32m    850\u001b[39m retries.sleep()\n",
      "\u001b[36mFile \u001b[39m\u001b[32m~/.local/share/mise/installs/python/3.12.3/lib/python3.12/site-packages/urllib3/util/retry.py:515\u001b[39m, in \u001b[36mRetry.increment\u001b[39m\u001b[34m(self, method, url, response, error, _pool, _stacktrace)\u001b[39m\n\u001b[32m    514\u001b[39m     reason = error \u001b[38;5;129;01mor\u001b[39;00m ResponseError(cause)\n\u001b[32m--> \u001b[39m\u001b[32m515\u001b[39m     \u001b[38;5;28;01mraise\u001b[39;00m MaxRetryError(_pool, url, reason) \u001b[38;5;28;01mfrom\u001b[39;00m\u001b[38;5;250m \u001b[39m\u001b[34;01mreason\u001b[39;00m  \u001b[38;5;66;03m# type: ignore[arg-type]\u001b[39;00m\n\u001b[32m    517\u001b[39m log.debug(\u001b[33m\"\u001b[39m\u001b[33mIncremented Retry for (url=\u001b[39m\u001b[33m'\u001b[39m\u001b[38;5;132;01m%s\u001b[39;00m\u001b[33m'\u001b[39m\u001b[33m): \u001b[39m\u001b[38;5;132;01m%r\u001b[39;00m\u001b[33m\"\u001b[39m, url, new_retry)\n",
      "\u001b[31mMaxRetryError\u001b[39m: HTTPConnectionPool(host='54.173.241.222', port=80): Max retries exceeded with url: /auth/o2/token (Caused by NewConnectionError('<urllib3.connection.HTTPConnection object at 0x1078bb5f0>: Failed to establish a new connection: [Errno 61] Connection refused'))",
      "\nDuring handling of the above exception, another exception occurred:\n",
      "\u001b[31mConnectionError\u001b[39m                           Traceback (most recent call last)",
      "\u001b[36mFile \u001b[39m\u001b[32m~/.local/share/mise/installs/python/3.12.3/lib/python3.12/site-packages/spapi/auth/lwa_request.py:35\u001b[39m, in \u001b[36mAccessTokenCache.request_new_token\u001b[39m\u001b[34m(self, client_id, client_secret, refresh_token, grant_type, scope, oauth_endpoint)\u001b[39m\n\u001b[32m     34\u001b[39m \u001b[38;5;28;01mtry\u001b[39;00m:\n\u001b[32m---> \u001b[39m\u001b[32m35\u001b[39m     response = \u001b[43mrequests\u001b[49m\u001b[43m.\u001b[49m\u001b[43mpost\u001b[49m\u001b[43m(\u001b[49m\u001b[43moauth_endpoint\u001b[49m\u001b[43m,\u001b[49m\u001b[43m \u001b[49m\u001b[43mdata\u001b[49m\u001b[43m=\u001b[49m\u001b[43mdata\u001b[49m\u001b[43m)\u001b[49m\n\u001b[32m     36\u001b[39m     response.raise_for_status()\n",
      "\u001b[36mFile \u001b[39m\u001b[32m~/.local/share/mise/installs/python/3.12.3/lib/python3.12/site-packages/requests/api.py:115\u001b[39m, in \u001b[36mpost\u001b[39m\u001b[34m(url, data, json, **kwargs)\u001b[39m\n\u001b[32m    104\u001b[39m \u001b[38;5;250m\u001b[39m\u001b[33mr\u001b[39m\u001b[33;03m\"\"\"Sends a POST request.\u001b[39;00m\n\u001b[32m    105\u001b[39m \n\u001b[32m    106\u001b[39m \u001b[33;03m:param url: URL for the new :class:`Request` object.\u001b[39;00m\n\u001b[32m   (...)\u001b[39m\u001b[32m    112\u001b[39m \u001b[33;03m:rtype: requests.Response\u001b[39;00m\n\u001b[32m    113\u001b[39m \u001b[33;03m\"\"\"\u001b[39;00m\n\u001b[32m--> \u001b[39m\u001b[32m115\u001b[39m \u001b[38;5;28;01mreturn\u001b[39;00m \u001b[43mrequest\u001b[49m\u001b[43m(\u001b[49m\u001b[33;43m\"\u001b[39;49m\u001b[33;43mpost\u001b[39;49m\u001b[33;43m\"\u001b[39;49m\u001b[43m,\u001b[49m\u001b[43m \u001b[49m\u001b[43murl\u001b[49m\u001b[43m,\u001b[49m\u001b[43m \u001b[49m\u001b[43mdata\u001b[49m\u001b[43m=\u001b[49m\u001b[43mdata\u001b[49m\u001b[43m,\u001b[49m\u001b[43m \u001b[49m\u001b[43mjson\u001b[49m\u001b[43m=\u001b[49m\u001b[43mjson\u001b[49m\u001b[43m,\u001b[49m\u001b[43m \u001b[49m\u001b[43m*\u001b[49m\u001b[43m*\u001b[49m\u001b[43mkwargs\u001b[49m\u001b[43m)\u001b[49m\n",
      "\u001b[36mFile \u001b[39m\u001b[32m~/.local/share/mise/installs/python/3.12.3/lib/python3.12/site-packages/requests/api.py:59\u001b[39m, in \u001b[36mrequest\u001b[39m\u001b[34m(method, url, **kwargs)\u001b[39m\n\u001b[32m     58\u001b[39m \u001b[38;5;28;01mwith\u001b[39;00m sessions.Session() \u001b[38;5;28;01mas\u001b[39;00m session:\n\u001b[32m---> \u001b[39m\u001b[32m59\u001b[39m     \u001b[38;5;28;01mreturn\u001b[39;00m \u001b[43msession\u001b[49m\u001b[43m.\u001b[49m\u001b[43mrequest\u001b[49m\u001b[43m(\u001b[49m\u001b[43mmethod\u001b[49m\u001b[43m=\u001b[49m\u001b[43mmethod\u001b[49m\u001b[43m,\u001b[49m\u001b[43m \u001b[49m\u001b[43murl\u001b[49m\u001b[43m=\u001b[49m\u001b[43murl\u001b[49m\u001b[43m,\u001b[49m\u001b[43m \u001b[49m\u001b[43m*\u001b[49m\u001b[43m*\u001b[49m\u001b[43mkwargs\u001b[49m\u001b[43m)\u001b[49m\n",
      "\u001b[36mFile \u001b[39m\u001b[32m~/.local/share/mise/installs/python/3.12.3/lib/python3.12/site-packages/requests/sessions.py:589\u001b[39m, in \u001b[36mSession.request\u001b[39m\u001b[34m(self, method, url, params, data, headers, cookies, files, auth, timeout, allow_redirects, proxies, hooks, stream, verify, cert, json)\u001b[39m\n\u001b[32m    588\u001b[39m send_kwargs.update(settings)\n\u001b[32m--> \u001b[39m\u001b[32m589\u001b[39m resp = \u001b[38;5;28;43mself\u001b[39;49m\u001b[43m.\u001b[49m\u001b[43msend\u001b[49m\u001b[43m(\u001b[49m\u001b[43mprep\u001b[49m\u001b[43m,\u001b[49m\u001b[43m \u001b[49m\u001b[43m*\u001b[49m\u001b[43m*\u001b[49m\u001b[43msend_kwargs\u001b[49m\u001b[43m)\u001b[49m\n\u001b[32m    591\u001b[39m \u001b[38;5;28;01mreturn\u001b[39;00m resp\n",
      "\u001b[36mFile \u001b[39m\u001b[32m~/.local/share/mise/installs/python/3.12.3/lib/python3.12/site-packages/requests/sessions.py:703\u001b[39m, in \u001b[36mSession.send\u001b[39m\u001b[34m(self, request, **kwargs)\u001b[39m\n\u001b[32m    702\u001b[39m \u001b[38;5;66;03m# Send the request\u001b[39;00m\n\u001b[32m--> \u001b[39m\u001b[32m703\u001b[39m r = \u001b[43madapter\u001b[49m\u001b[43m.\u001b[49m\u001b[43msend\u001b[49m\u001b[43m(\u001b[49m\u001b[43mrequest\u001b[49m\u001b[43m,\u001b[49m\u001b[43m \u001b[49m\u001b[43m*\u001b[49m\u001b[43m*\u001b[49m\u001b[43mkwargs\u001b[49m\u001b[43m)\u001b[49m\n\u001b[32m    705\u001b[39m \u001b[38;5;66;03m# Total elapsed time of the request (approximately)\u001b[39;00m\n",
      "\u001b[36mFile \u001b[39m\u001b[32m~/.local/share/mise/installs/python/3.12.3/lib/python3.12/site-packages/requests/adapters.py:700\u001b[39m, in \u001b[36mHTTPAdapter.send\u001b[39m\u001b[34m(self, request, stream, timeout, verify, cert, proxies)\u001b[39m\n\u001b[32m    698\u001b[39m         \u001b[38;5;28;01mraise\u001b[39;00m SSLError(e, request=request)\n\u001b[32m--> \u001b[39m\u001b[32m700\u001b[39m     \u001b[38;5;28;01mraise\u001b[39;00m \u001b[38;5;167;01mConnectionError\u001b[39;00m(e, request=request)\n\u001b[32m    702\u001b[39m \u001b[38;5;28;01mexcept\u001b[39;00m ClosedPoolError \u001b[38;5;28;01mas\u001b[39;00m e:\n",
      "\u001b[31mConnectionError\u001b[39m: HTTPConnectionPool(host='54.173.241.222', port=80): Max retries exceeded with url: /auth/o2/token (Caused by NewConnectionError('<urllib3.connection.HTTPConnection object at 0x1078bb5f0>: Failed to establish a new connection: [Errno 61] Connection refused'))",
      "\nThe above exception was the direct cause of the following exception:\n",
      "\u001b[31mLwaException\u001b[39m                              Traceback (most recent call last)",
      "\u001b[36mCell\u001b[39m\u001b[36m \u001b[39m\u001b[32mIn[3]\u001b[39m\u001b[32m, line 14\u001b[39m\n\u001b[32m      6\u001b[39m mock_endpoint = \u001b[33m\"\u001b[39m\u001b[33mhttp://54.173.241.222:80\u001b[39m\u001b[33m\"\u001b[39m\n\u001b[32m      8\u001b[39m config = SPAPIConfig(\n\u001b[32m      9\u001b[39m     client_id=\u001b[33m\"\u001b[39m\u001b[33mChris\u001b[39m\u001b[33m\"\u001b[39m,\n\u001b[32m     10\u001b[39m     client_secret=\u001b[33m\"\u001b[39m\u001b[33mKhoury\u001b[39m\u001b[33m\"\u001b[39m,\n\u001b[32m     11\u001b[39m     refresh_token=\u001b[33m\"\u001b[39m\u001b[33mFakeToken\u001b[39m\u001b[33m\"\u001b[39m,\n\u001b[32m     12\u001b[39m     region=\u001b[33m\"\u001b[39m\u001b[33mNA\u001b[39m\u001b[33m\"\u001b[39m\n\u001b[32m     13\u001b[39m )\n\u001b[32m---> \u001b[39m\u001b[32m14\u001b[39m client = \u001b[43mSPAPIClient\u001b[49m\u001b[43m(\u001b[49m\u001b[43mconfig\u001b[49m\u001b[43m,\u001b[49m\u001b[43m \u001b[49m\u001b[43mendpoint\u001b[49m\u001b[43m=\u001b[49m\u001b[43mmock_endpoint\u001b[49m\u001b[43m,\u001b[49m\u001b[43m \u001b[49m\u001b[43moauth_endpoint\u001b[49m\u001b[43m=\u001b[49m\u001b[43mmock_oauth_endpoint\u001b[49m\u001b[43m)\u001b[49m\n\u001b[32m     16\u001b[39m data_kiosk_api = QueriesApi(client.api_client)\n\u001b[32m     17\u001b[39m listings_api = ListingsApi(client.api_client)\n",
      "\u001b[36mFile \u001b[39m\u001b[32m~/.local/share/mise/installs/python/3.12.3/lib/python3.12/site-packages/spapi/client.py:34\u001b[39m, in \u001b[36mSPAPIClient.__init__\u001b[39m\u001b[34m(self, config, oauth_endpoint, endpoint)\u001b[39m\n\u001b[32m     27\u001b[39m \u001b[38;5;28mself\u001b[39m.access_token_cache = AccessTokenCache(\n\u001b[32m     28\u001b[39m     client_id=\u001b[38;5;28mself\u001b[39m.config.client_id,\n\u001b[32m     29\u001b[39m     client_secret=\u001b[38;5;28mself\u001b[39m.config.client_secret,\n\u001b[32m     30\u001b[39m     refresh_token=\u001b[38;5;28mself\u001b[39m.config.refresh_token,\n\u001b[32m     31\u001b[39m     oauth_endpoint=\u001b[38;5;28mself\u001b[39m.oauth_endpoint\n\u001b[32m     32\u001b[39m )\n\u001b[32m     33\u001b[39m \u001b[38;5;28mself\u001b[39m.api_client = \u001b[38;5;28;01mNone\u001b[39;00m\n\u001b[32m---> \u001b[39m\u001b[32m34\u001b[39m \u001b[38;5;28;43mself\u001b[39;49m\u001b[43m.\u001b[49m\u001b[43m_initialize_client\u001b[49m\u001b[43m(\u001b[49m\u001b[43m)\u001b[49m\n",
      "\u001b[36mFile \u001b[39m\u001b[32m~/.local/share/mise/installs/python/3.12.3/lib/python3.12/site-packages/spapi/client.py:43\u001b[39m, in \u001b[36mSPAPIClient._initialize_client\u001b[39m\u001b[34m(self)\u001b[39m\n\u001b[32m     40\u001b[39m configuration.host = \u001b[38;5;28mself\u001b[39m.api_base_url\n\u001b[32m     41\u001b[39m configuration.access_token_cache = \u001b[38;5;28mself\u001b[39m.access_token_cache\n\u001b[32m---> \u001b[39m\u001b[32m43\u001b[39m \u001b[38;5;28mself\u001b[39m.api_client = \u001b[43mApiClient\u001b[49m\u001b[43m(\u001b[49m\u001b[43mconfiguration\u001b[49m\u001b[43m=\u001b[49m\u001b[43mconfiguration\u001b[49m\u001b[43m)\u001b[49m\n",
      "\u001b[36mFile \u001b[39m\u001b[32m~/.local/share/mise/installs/python/3.12.3/lib/python3.12/site-packages/spapi/api_client.py:69\u001b[39m, in \u001b[36mApiClient.__init__\u001b[39m\u001b[34m(self, configuration, header_name, header_value, cookie)\u001b[39m\n\u001b[32m     67\u001b[39m \u001b[38;5;28mself\u001b[39m.cookie = cookie\n\u001b[32m     68\u001b[39m \u001b[38;5;28;01mif\u001b[39;00m \u001b[38;5;28mself\u001b[39m.configuration.access_token_cache:\n\u001b[32m---> \u001b[39m\u001b[32m69\u001b[39m     \u001b[38;5;28mself\u001b[39m.default_headers[\u001b[33m'\u001b[39m\u001b[33mx-amz-access-token\u001b[39m\u001b[33m'\u001b[39m] = \u001b[38;5;28;43mself\u001b[39;49m\u001b[43m.\u001b[49m\u001b[43mconfiguration\u001b[49m\u001b[43m.\u001b[49m\u001b[43maccess_token_cache\u001b[49m\u001b[43m.\u001b[49m\u001b[43mget_lwa_access_token\u001b[49m\u001b[43m(\u001b[49m\u001b[43m)\u001b[49m\n\u001b[32m     70\u001b[39m \u001b[38;5;66;03m# Set default User-Agent.\u001b[39;00m\n\u001b[32m     71\u001b[39m pyproject_package = \u001b[33m\"\u001b[39m\u001b[33mamzn-sp-api\u001b[39m\u001b[33m\"\u001b[39m\n",
      "\u001b[36mFile \u001b[39m\u001b[32m~/.local/share/mise/installs/python/3.12.3/lib/python3.12/site-packages/spapi/auth/lwa_request.py:25\u001b[39m, in \u001b[36mAccessTokenCache.get_lwa_access_token\u001b[39m\u001b[34m(self)\u001b[39m\n\u001b[32m     23\u001b[39m \u001b[38;5;28;01mif\u001b[39;00m \u001b[38;5;28mself\u001b[39m.token_info \u001b[38;5;129;01mand\u001b[39;00m time.time() < \u001b[38;5;28mself\u001b[39m.token_info[\u001b[33m\"\u001b[39m\u001b[33mexpires_at\u001b[39m\u001b[33m\"\u001b[39m]:\n\u001b[32m     24\u001b[39m     \u001b[38;5;28;01mreturn\u001b[39;00m \u001b[38;5;28mself\u001b[39m.token_info[\u001b[33m\"\u001b[39m\u001b[33maccess_token\u001b[39m\u001b[33m\"\u001b[39m]\n\u001b[32m---> \u001b[39m\u001b[32m25\u001b[39m \u001b[38;5;28;01mreturn\u001b[39;00m \u001b[38;5;28;43mself\u001b[39;49m\u001b[43m.\u001b[49m\u001b[43mrequest_new_token\u001b[49m\u001b[43m(\u001b[49m\u001b[38;5;28;43mself\u001b[39;49m\u001b[43m.\u001b[49m\u001b[43mclient_id\u001b[49m\u001b[43m,\u001b[49m\u001b[43m \u001b[49m\u001b[38;5;28;43mself\u001b[39;49m\u001b[43m.\u001b[49m\u001b[43mclient_secret\u001b[49m\u001b[43m,\u001b[49m\u001b[43m \u001b[49m\u001b[38;5;28;43mself\u001b[39;49m\u001b[43m.\u001b[49m\u001b[43mrefresh_token\u001b[49m\u001b[43m,\u001b[49m\u001b[43m \u001b[49m\u001b[38;5;28;43mself\u001b[39;49m\u001b[43m.\u001b[49m\u001b[43mgrant_type\u001b[49m\u001b[43m,\u001b[49m\u001b[43m \u001b[49m\u001b[38;5;28;43mself\u001b[39;49m\u001b[43m.\u001b[49m\u001b[43mscope\u001b[49m\u001b[43m,\u001b[49m\u001b[43m \u001b[49m\u001b[38;5;28;43mself\u001b[39;49m\u001b[43m.\u001b[49m\u001b[43moauth_endpoint\u001b[49m\u001b[43m)\u001b[49m\n",
      "\u001b[36mFile \u001b[39m\u001b[32m~/.local/share/mise/installs/python/3.12.3/lib/python3.12/site-packages/spapi/auth/lwa_request.py:49\u001b[39m, in \u001b[36mAccessTokenCache.request_new_token\u001b[39m\u001b[34m(self, client_id, client_secret, refresh_token, grant_type, scope, oauth_endpoint)\u001b[39m\n\u001b[32m     47\u001b[39m error_message = \u001b[33mf\u001b[39m\u001b[33m\"\u001b[39m\u001b[33mToken request failed with status code \u001b[39m\u001b[38;5;132;01m{\u001b[39;00me.response.status_code\u001b[38;5;132;01m}\u001b[39;00m\u001b[33m: \u001b[39m\u001b[38;5;132;01m{\u001b[39;00me.response.text\u001b[38;5;132;01m}\u001b[39;00m\u001b[33m\"\u001b[39m \u001b[38;5;28;01mif\u001b[39;00m e.response \u001b[38;5;28;01melse\u001b[39;00m \u001b[33m\"\u001b[39m\u001b[33mToken request failed.\u001b[39m\u001b[33m\"\u001b[39m\n\u001b[32m     48\u001b[39m logger.error(error_message)\n\u001b[32m---> \u001b[39m\u001b[32m49\u001b[39m \u001b[38;5;28;01mraise\u001b[39;00m LwaException(error_code, error_message) \u001b[38;5;28;01mfrom\u001b[39;00m\u001b[38;5;250m \u001b[39m\u001b[34;01me\u001b[39;00m\n",
      "\u001b[31mLwaException\u001b[39m: LWA Error - Code: server_error, Message: Token request failed."
     ]
    }
   ],
   "source": [
    "from spapi.models.datakiosk_v2023_11_15 import GetDocumentResponse, CreateQueryResponse, GetQueriesResponse, Query\n",
    "from spapi import SPAPIConfig, SPAPIClient, ApiException, QueriesApi, ListingsApi\n",
    "\n",
    "# Configuration for mock SP-API\n",
    "mock_oauth_endpoint = \"http://54.173.241.222:80/auth/o2/token\"\n",
    "mock_endpoint = \"http://54.173.241.222:80\"\n",
    "\n",
    "config = SPAPIConfig(\n",
    "    client_id=\"Chris\",\n",
    "    client_secret=\"Khoury\",\n",
    "    refresh_token=\"FakeToken\",\n",
    "    region=\"NA\"\n",
    ")\n",
    "client = SPAPIClient(config, endpoint=mock_endpoint, oauth_endpoint=mock_oauth_endpoint)\n",
    "\n",
    "data_kiosk_api = QueriesApi(client.api_client)\n",
    "listings_api = ListingsApi(client.api_client)"
   ]
  },
  {
   "cell_type": "markdown",
   "id": "c775f0ee-fd11-475e-9951-4ec7a8c88f60",
   "metadata": {},
   "source": [
    "---"
   ]
  },
  {
   "cell_type": "markdown",
   "id": "84e412bd-da81-4338-870c-7411da98a5e7",
   "metadata": {},
   "source": [
    "### 🚶‍♂️ Steps to Get Data Kiosk Reports\n",
    "\n",
    "#### 🖥️ Step 1: Paste Your Query Below\n",
    "\n",
    "💡 Use the [Data Kiosk Schema Explorer UI](https://sellercentral.amazon.com/datakiosk-schema-explorer?schema=analytics_salesAndTraffic_2024_04_24) to build your perfect query, for now, you can use the one we built for you here:"
   ]
  },
  {
   "cell_type": "code",
   "execution_count": 12,
   "id": "5680394a-bd8e-434b-8da8-2981614bb745",
   "metadata": {},
   "outputs": [],
   "source": [
    "graphql_query_str = (\n",
    "    \"query { analytics_economics_2024_03_15 { economics( \"\n",
    "    \"marketplaceIds: [\\\"ATVPDKIKX0DER\\\"], \"\n",
    "    \"startDate: \\\"2025-06-01\\\", endDate: \\\"2025-06-05\\\", \"\n",
    "    \"aggregateBy: { date: DAY, productId: MSKU } ) { \"\n",
    "    \"msku startDate endDate sales { \"\n",
    "    \"unitsOrdered unitsRefunded \"\n",
    "    \"orderedProductSales { amount currencyCode } \"\n",
    "    \"refundedProductSales { amount currencyCode } \"\n",
    "    \"} } } }\"\n",
    ")\n",
    "\n",
    "graphql_query = {\"query\": graphql_query_str}"
   ]
  },
  {
   "cell_type": "markdown",
   "id": "5636d81b-0604-4818-a159-30178e4e4cae",
   "metadata": {},
   "source": [
    "---"
   ]
  },
  {
   "cell_type": "markdown",
   "id": "76043c3c-9695-4f74-99da-c073d1d4aebb",
   "metadata": {},
   "source": [
    "#### 🚀 Step 2: Send the Query\n",
    "Let Amazon know you’re ready to roll by calling `create_query`."
   ]
  },
  {
   "cell_type": "code",
   "execution_count": 13,
   "id": "c3839fbf-6b16-4ee5-a9ea-bac1b2e09ba7",
   "metadata": {},
   "outputs": [
    {
     "name": "stdout",
     "output_type": "stream",
     "text": [
      "✅ Query submitted! Response: {'query_id': '1000003'}\n"
     ]
    }
   ],
   "source": [
    "# Tell Amazon to start processing your query\n",
    "create_query_response = data_kiosk_api.create_query(body=graphql_query)\n",
    "print(\"✅ Query submitted! Response:\", create_query_response)"
   ]
  },
  {
   "cell_type": "markdown",
   "id": "f7076439-86da-4c2a-af46-cc1ff2ba802f",
   "metadata": {},
   "source": [
    "---"
   ]
  },
  {
   "cell_type": "markdown",
   "id": "fea35d6c-d4e2-4333-844d-f74a7485c226",
   "metadata": {},
   "source": [
    "#### ⏳ Step 3: Check If Your Data Is Ready\n",
    "\n",
    "You can either:\n",
    "\n",
    "- Keep checking with `get_query`, or\n",
    "- 🧠 Be smart _well-architected_ and subscribe to the [DATA_KIOSK_QUERY_PROCESSING_FINISHED](https://developer-docs.amazon.com/sp-api/docs/data-kiosk-notification) notification for automatic updates.\n",
    "\n",
    "Here, we’ll use polling just once for simplicity - if data is ready a `dataDocumentId` attribute will be reutrned:"
   ]
  },
  {
   "cell_type": "code",
   "execution_count": 14,
   "id": "ec8b972a-bac0-4eb5-8e1b-22919aa4602f",
   "metadata": {},
   "outputs": [
    {
     "name": "stdout",
     "output_type": "stream",
     "text": [
      "⏱️ Query status: {'created_time': datetime.datetime(2025, 7, 17, 11, 25, 13, 645000, tzinfo=tzlocal()),\n",
      " 'data_document_id': 'usecase_3_document_id.amzn.100003',\n",
      " 'error_document_id': None,\n",
      " 'pagination': None,\n",
      " 'processing_end_time': datetime.datetime(2025, 7, 17, 11, 25, 13, 645000, tzinfo=tzlocal()),\n",
      " 'processing_start_time': datetime.datetime(2025, 7, 17, 11, 25, 13, 645000, tzinfo=tzlocal()),\n",
      " 'processing_status': 'DONE',\n",
      " 'query': 'query { analytics_economics_2024_03_15 { economics( marketplaceIds: '\n",
      "          '[\"ATVPDKIKX0DER\"], startDate: \"2025-06-01\", endDate: \"2025-06-05\", '\n",
      "          'aggregateBy: { date: DAY, productId: MSKU } ) { msku startDate '\n",
      "          'endDate sales { unitsOrdered unitsRefunded orderedProductSales { '\n",
      "          'amount currencyCode } refundedProductSales { amount currencyCode } '\n",
      "          '} } } }',\n",
      " 'query_id': '1000003'}\n"
     ]
    }
   ],
   "source": [
    "# Check the status of your query\n",
    "get_query_response = data_kiosk_api.get_query(query_id=create_query_response.query_id)\n",
    "print(\"⏱️ Query status:\", get_query_response)"
   ]
  },
  {
   "cell_type": "markdown",
   "id": "f6604b02-4276-4a56-bca8-95d94a91d145",
   "metadata": {},
   "source": [
    "---"
   ]
  },
  {
   "cell_type": "markdown",
   "id": "28b6141e-94ab-4d11-81f9-d40853e0baf2",
   "metadata": {},
   "source": [
    "#### 📦 Step 4: Get Your Data!\n",
    "\n",
    "Once the query is ready, you’ll receive a `dataDocumentId`. Use it to grab the results with `get_document` endpoint."
   ]
  },
  {
   "cell_type": "code",
   "execution_count": 16,
   "id": "acdf60e7-cdc9-48de-be3d-f44e524eba95",
   "metadata": {},
   "outputs": [
    {
     "name": "stdout",
     "output_type": "stream",
     "text": [
      "📊 Here's your data: {'document_id': 'usecase_3_document_id.amzn.100003',\n",
      " 'document_url': \"{'data': {'analytics_economics_2024_03_15': {'economics': \"\n",
      "                 \"[{'msku': 'BICYCLE-RED-L', 'startDate': '2025-06-01', \"\n",
      "                 \"'endDate': '2025-06-01', 'sales': {'unitsOrdered': 100, \"\n",
      "                 \"'unitsRefunded': 50, 'orderedProductSales': {'amount': \"\n",
      "                 \"2000.0, 'currencyCode': 'USD'}, 'refundedProductSales': \"\n",
      "                 \"{'amount': 1000.0, 'currencyCode': 'USD'}}}, {'msku': \"\n",
      "                 \"'BICYCLE-GRAY-M', 'startDate': '2025-06-01', 'endDate': \"\n",
      "                 \"'2025-06-01', 'sales': {'unitsOrdered': 60, 'unitsRefunded': \"\n",
      "                 \"30, 'orderedProductSales': {'amount': 1200.0, \"\n",
      "                 \"'currencyCode': 'USD'}, 'refundedProductSales': {'amount': \"\n",
      "                 \"600.0, 'currencyCode': 'USD'}}}, {'msku': 'BICYCLE-BLUE-M', \"\n",
      "                 \"'startDate': '2025-06-01', 'endDate': '2025-06-01', 'sales': \"\n",
      "                 \"{'unitsOrdered': 80, 'unitsRefunded': 5, \"\n",
      "                 \"'orderedProductSales': {'amount': 1600.0, 'currencyCode': \"\n",
      "                 \"'USD'}, 'refundedProductSales': {'amount': 100.0, \"\n",
      "                 \"'currencyCode': 'USD'}}}]}}}\"}\n"
     ]
    }
   ],
   "source": [
    "# Now let's get the actual data!\n",
    "get_document = data_kiosk_api.get_document(document_id=get_query_response.data_document_id)\n",
    "print(\"📊 Here's your data:\", get_document)"
   ]
  },
  {
   "cell_type": "markdown",
   "id": "34daab0b-886a-4fff-9fd8-e9f2434a51f0",
   "metadata": {},
   "source": [
    "---"
   ]
  },
  {
   "cell_type": "markdown",
   "id": "91035595-0ff1-4330-bdce-803d673069a4",
   "metadata": {},
   "source": [
    "### 📊 Visualize Your Economics Data\n",
    "\n",
    "🧠 What This Shows - Let’s bring the numbers to life!\n",
    "\n",
    "- You'll see a bar chart of refund rates.\n",
    "- High-refund SKUs will be marked in red.\n",
    "- Easy to tell which MSKUs are the problem.\n",
    "\n",
    "Make sure you’ve run the cell above so `get_document_response` is available.\n"
   ]
  },
  {
   "cell_type": "code",
   "execution_count": 17,
   "id": "9bc3a963-f5f5-400b-8aab-f484c0cb37c9",
   "metadata": {},
   "outputs": [
    {
     "data": {
      "text/html": [
       "<div>\n",
       "<style scoped>\n",
       "    .dataframe tbody tr th:only-of-type {\n",
       "        vertical-align: middle;\n",
       "    }\n",
       "\n",
       "    .dataframe tbody tr th {\n",
       "        vertical-align: top;\n",
       "    }\n",
       "\n",
       "    .dataframe thead th {\n",
       "        text-align: right;\n",
       "    }\n",
       "</style>\n",
       "<table border=\"1\" class=\"dataframe\">\n",
       "  <thead>\n",
       "    <tr style=\"text-align: right;\">\n",
       "      <th></th>\n",
       "      <th>MSKU</th>\n",
       "      <th>Units Ordered</th>\n",
       "      <th>Units Refunded</th>\n",
       "      <th>Ordered Sales ($)</th>\n",
       "      <th>Refunded Sales ($)</th>\n",
       "      <th>Refund Rate (%)</th>\n",
       "      <th>$ Refund Rate (%)</th>\n",
       "      <th>High Refund?</th>\n",
       "    </tr>\n",
       "  </thead>\n",
       "  <tbody>\n",
       "    <tr>\n",
       "      <th>0</th>\n",
       "      <td>BICYCLE-RED-L</td>\n",
       "      <td>100</td>\n",
       "      <td>50</td>\n",
       "      <td>2000.0</td>\n",
       "      <td>1000.0</td>\n",
       "      <td>50.00</td>\n",
       "      <td>50.00</td>\n",
       "      <td>True</td>\n",
       "    </tr>\n",
       "    <tr>\n",
       "      <th>1</th>\n",
       "      <td>BICYCLE-GRAY-M</td>\n",
       "      <td>60</td>\n",
       "      <td>30</td>\n",
       "      <td>1200.0</td>\n",
       "      <td>600.0</td>\n",
       "      <td>50.00</td>\n",
       "      <td>50.00</td>\n",
       "      <td>True</td>\n",
       "    </tr>\n",
       "    <tr>\n",
       "      <th>2</th>\n",
       "      <td>BICYCLE-BLUE-M</td>\n",
       "      <td>80</td>\n",
       "      <td>5</td>\n",
       "      <td>1600.0</td>\n",
       "      <td>100.0</td>\n",
       "      <td>6.25</td>\n",
       "      <td>6.25</td>\n",
       "      <td>False</td>\n",
       "    </tr>\n",
       "  </tbody>\n",
       "</table>\n",
       "</div>"
      ],
      "text/plain": [
       "             MSKU  Units Ordered  Units Refunded  Ordered Sales ($)  \\\n",
       "0   BICYCLE-RED-L            100              50             2000.0   \n",
       "1  BICYCLE-GRAY-M             60              30             1200.0   \n",
       "2  BICYCLE-BLUE-M             80               5             1600.0   \n",
       "\n",
       "   Refunded Sales ($)  Refund Rate (%)  $ Refund Rate (%)  High Refund?  \n",
       "0              1000.0            50.00              50.00          True  \n",
       "1               600.0            50.00              50.00          True  \n",
       "2               100.0             6.25               6.25         False  "
      ]
     },
     "metadata": {},
     "output_type": "display_data"
    },
    {
     "data": {
      "image/png": "[encoded data removed]",
      "text/plain": [
       "<Figure size 1000x600 with 1 Axes>"
      ]
     },
     "metadata": {},
     "output_type": "display_data"
    }
   ],
   "source": [
    "import ast\n",
    "import pandas as pd\n",
    "import matplotlib.pyplot as plt\n",
    "\n",
    "# Safely convert the string to a dictionary\n",
    "parsed_document = ast.literal_eval(get_document.document_url)\n",
    "\n",
    "# Extract the economics data\n",
    "economics_data = parsed_document[\"data\"][\"analytics_economics_2024_03_15\"][\"economics\"]\n",
    "\n",
    "\n",
    "# Build DataFrame\n",
    "df = pd.DataFrame([\n",
    "    {\n",
    "        \"MSKU\": item[\"msku\"],\n",
    "        \"Units Ordered\": item[\"sales\"][\"unitsOrdered\"],\n",
    "        \"Units Refunded\": item[\"sales\"][\"unitsRefunded\"],\n",
    "        \"Ordered Sales ($)\": item[\"sales\"][\"orderedProductSales\"][\"amount\"],\n",
    "        \"Refunded Sales ($)\": item[\"sales\"][\"refundedProductSales\"][\"amount\"]\n",
    "    }\n",
    "    for item in economics_data\n",
    "])\n",
    "\n",
    "# Calculate refund rates\n",
    "df[\"Refund Rate (%)\"] = (df[\"Units Refunded\"] / df[\"Units Ordered\"]) * 100\n",
    "df[\"$ Refund Rate (%)\"] = (df[\"Refunded Sales ($)\"] / df[\"Ordered Sales ($)\"]) * 100\n",
    "\n",
    "# Flag high refund rate listings\n",
    "df[\"High Refund?\"] = df[\"Refund Rate (%)\"] > 30\n",
    "\n",
    "# Display table\n",
    "display(df.sort_values(\"Refund Rate (%)\", ascending=False))\n",
    "\n",
    "# Plot refund rates\n",
    "plt.figure(figsize=(10, 6))\n",
    "bars = plt.bar(df[\"MSKU\"], df[\"Refund Rate (%)\"], color=[\"red\" if high else \"green\" for high in df[\"High Refund?\"]])\n",
    "plt.title(\"Refund Rate by MSKU\", fontsize=14)\n",
    "plt.ylabel(\"Refund Rate (%)\")\n",
    "plt.xlabel(\"MSKU\")\n",
    "\n",
    "# Add value labels\n",
    "for bar in bars:\n",
    "    height = bar.get_height()\n",
    "    plt.text(bar.get_x() + bar.get_width()/2, height + 1, f'{height:.1f}%', ha='center', fontsize=10)\n",
    "\n",
    "plt.ylim(0, 100)\n",
    "plt.tight_layout()\n",
    "plt.show()\n"
   ]
  },
  {
   "cell_type": "markdown",
   "id": "b83580c3-c5eb-4283-a96d-35bbdf6ba065",
   "metadata": {},
   "source": [
    "---"
   ]
  },
  {
   "cell_type": "markdown",
   "id": "2b004a2f-bc24-464e-8d2e-1c332e34b7e6",
   "metadata": {},
   "source": [
    "## 4️⃣ Troubleshooting: \n",
    "\n",
    "### 🫆 Clue\n",
    "\n",
    "Looks like there are a few SKUs that have up to 50% of refund rate! \n",
    "\n",
    "Use the code below to call getListingsItems operation on one of the SKUs with high refund.\n"
   ]
  },
  {
   "cell_type": "code",
   "execution_count": 8,
   "id": "b1b36cbd-ca0a-4e4f-8e9f-edfc49fa053a",
   "metadata": {},
   "outputs": [],
   "source": [
    "import json\n",
    "get_listing = listings_api.get_listings_item('AMY6FKRUBY7XV', \n",
    "                                             'BICYCLE-GRAY-M',\n",
    "                                             ['ATVPDKIKX0DER'], \n",
    "                                             included_data=['attributes', 'issues','summaries'])\n",
    "\n",
    "print(\"🛍️ Here's your listing: \\n\", json.dumps(get_listing.to_dict(), indent=4, default=str))"
   ]
  },
  {
   "cell_type": "markdown",
   "id": "537f3bf4-c3a0-4c67-b13a-c63aa6e6a280",
   "metadata": {},
   "source": [
    "### 🕵️ New Clue\n",
    "\n",
    "There is no `ERROR` severity issues on the listing! What else could have gone wrong?\n",
    "\n",
    "Our team just pulled a `GET_V2_SELLER_PERFORMANCE_REPORT` report. It might be relevant to the investigation!\n",
    "<details>\n",
    "<summary><strong>GET_V2_SELLER_PERFORMANCE_REPORT report</strong></summary>\n",
    "    \n",
    "```\n",
    "{\n",
    "  \"accountStatuses\": [\n",
    "    {\n",
    "      \"marketplaceId\": \"ATVPDKIKX0DER\",\n",
    "      \"status\": \"NORMAL\"\n",
    "    }\n",
    "  ],\n",
    "  \"performanceMetrics\": [\n",
    "    {\n",
    "      \"lateShipmentRate\": {\n",
    "        \"reportingDateRange\": {\n",
    "          \"reportingDateFrom\": \"2025-05-27T00:00:00Z\",\n",
    "          \"reportingDateTo\": \"2025-06-25T23:59:59Z\"\n",
    "        },\n",
    "        \"status\": \"GOOD\",\n",
    "        \"targetValue\": 0.04,\n",
    "        \"targetCondition\": \"LESS_THAN\",\n",
    "        \"orderCount\": 0,\n",
    "        \"lateShipmentCount\": 0,\n",
    "        \"rate\": 0\n",
    "      },\n",
    "      \"lateShipmentRateList\": [\n",
    "        {\n",
    "          \"reportingDateRange\": {\n",
    "            \"reportingDateFrom\": \"2025-06-16T00:00:00Z\",\n",
    "            \"reportingDateTo\": \"2025-06-25T23:59:59Z\"\n",
    "          },\n",
    "          \"status\": \"GOOD\",\n",
    "          \"targetValue\": 0.04,\n",
    "          \"targetCondition\": \"LESS_THAN\",\n",
    "          \"orderCount\": 0,\n",
    "          \"lateShipmentCount\": 0,\n",
    "          \"rate\": 0\n",
    "        },\n",
    "        {\n",
    "          \"reportingDateRange\": {\n",
    "            \"reportingDateFrom\": \"2025-05-27T00:00:00Z\",\n",
    "            \"reportingDateTo\": \"2025-06-25T23:59:59Z\"\n",
    "          },\n",
    "          \"status\": \"GOOD\",\n",
    "          \"targetValue\": 0.04,\n",
    "          \"targetCondition\": \"LESS_THAN\",\n",
    "          \"orderCount\": 0,\n",
    "          \"lateShipmentCount\": 0,\n",
    "          \"rate\": 0\n",
    "        }\n",
    "      ],\n",
    "      \"invoiceDefectRate\": {},\n",
    "      \"orderDefectRate\": {\n",
    "        \"afn\": {},\n",
    "        \"mfn\": {\n",
    "          \"reportingDateRange\": {\n",
    "            \"reportingDateFrom\": \"2025-04-12T00:00:00Z\",\n",
    "            \"reportingDateTo\": \"2025-06-10T23:59:59Z\"\n",
    "          },\n",
    "          \"status\": \"GOOD\",\n",
    "          \"targetValue\": 0.01,\n",
    "          \"targetCondition\": \"LESS_THAN\",\n",
    "          \"orderWithDefects\": {\n",
    "            \"status\": \"GOOD\",\n",
    "            \"count\": 0\n",
    "          },\n",
    "          \"claims\": {\n",
    "            \"status\": \"NONE\",\n",
    "            \"count\": 0\n",
    "          },\n",
    "          \"chargebacks\": {\n",
    "            \"status\": \"NONE\",\n",
    "            \"count\": 0\n",
    "          },\n",
    "          \"negativeFeedback\": {\n",
    "            \"status\": \"NONE\",\n",
    "            \"count\": 0\n",
    "          },\n",
    "          \"orderCount\": 0,\n",
    "          \"rate\": 0,\n",
    "          \"fulfillmentType\": \"MFN\"\n",
    "        }\n",
    "      },\n",
    "      \"onTimeDeliveryRate\": {\n",
    "        \"reportingDateRange\": {\n",
    "          \"reportingDateFrom\": \"2025-05-17T00:00:00Z\",\n",
    "          \"reportingDateTo\": \"2025-06-15T23:59:59Z\"\n",
    "        },\n",
    "        \"status\": \"GOOD\",\n",
    "        \"targetValue\": 0.97,\n",
    "        \"targetCondition\": \"GREATER_THAN\",\n",
    "        \"shipmentCountWithValidTracking\": 0,\n",
    "        \"onTimeDeliveryCount\": 0,\n",
    "        \"rate\": 0\n",
    "      },\n",
    "      \"unitOnTimeDeliveryRate\": {\n",
    "        \"reportingDateRange\": {\n",
    "          \"reportingDateFrom\": \"2025-06-05T00:00:00Z\",\n",
    "          \"reportingDateTo\": \"2025-06-18T23:59:59Z\"\n",
    "        },\n",
    "        \"status\": \"GOOD\",\n",
    "        \"targetValue\": 0.9,\n",
    "        \"targetCondition\": \"GREATER_THAN\",\n",
    "        \"unitOnTimeDeliveryCount\": 0,\n",
    "        \"totalUnitCount\": 0,\n",
    "        \"rate\": 0\n",
    "      },\n",
    "      \"validTrackingRate\": {\n",
    "        \"reportingDateRange\": {\n",
    "          \"reportingDateFrom\": \"2025-05-17T00:00:00Z\",\n",
    "          \"reportingDateTo\": \"2025-06-15T23:59:59Z\"\n",
    "        },\n",
    "        \"status\": \"GOOD\",\n",
    "        \"targetValue\": 0.95,\n",
    "        \"targetCondition\": \"GREATER_THAN\",\n",
    "        \"shipmentCount\": 0,\n",
    "        \"validTrackingCount\": 0,\n",
    "        \"rate\": 0\n",
    "      },\n",
    "      \"preFulfillmentCancellationRate\": {\n",
    "        \"reportingDateRange\": {\n",
    "          \"reportingDateFrom\": \"2025-06-18T00:00:00Z\",\n",
    "          \"reportingDateTo\": \"2025-06-24T23:59:59Z\"\n",
    "        },\n",
    "        \"status\": \"GOOD\",\n",
    "        \"targetValue\": 0.025,\n",
    "        \"targetCondition\": \"LESS_THAN\",\n",
    "        \"orderCount\": 0,\n",
    "        \"cancellationCount\": 0,\n",
    "        \"rate\": 0\n",
    "      },\n",
    "      \"warningStates\": [],\n",
    "      \"accountHealthRating\": {\n",
    "        \"ahrStatus\": \"GREAT\",\n",
    "        \"reportingDateRange\": {\n",
    "          \"reportingDateFrom\": \"2024-12-27T00:00:00Z\",\n",
    "          \"reportingDateTo\": \"2025-06-25T23:59:59Z\"\n",
    "        },\n",
    "        \"ahrScore\": 200\n",
    "      },\n",
    "      \"listingPolicyViolations\": {\n",
    "        \"reportingDateRange\": {\n",
    "          \"reportingDateFrom\": \"2024-12-28T00:00:00Z\",\n",
    "          \"reportingDateTo\": \"2025-06-25T23:59:59Z\"\n",
    "        },\n",
    "        \"status\": \"GOOD\",\n",
    "        \"targetValue\": 0,\n",
    "        \"targetCondition\": \"EQUALS\",\n",
    "        \"defectsCount\": 0\n",
    "      },\n",
    "      \"productAuthenticityCustomerComplaints\": {},\n",
    "      \"productConditionCustomerComplaints\": {},\n",
    "      \"productSafetyCustomerComplaints\": {},\n",
    "      \"receivedIntellectualPropertyComplaints\": {},\n",
    "      \"restrictedProductPolicyViolations\": {},\n",
    "      \"suspectedIntellectualPropertyViolations\": {},\n",
    "      \"foodAndProductSafetyIssues\": {},\n",
    "      \"customerProductReviewsPolicyViolations\": {},\n",
    "      \"otherPolicyViolations\": {},\n",
    "      \"documentRequests\": {},\n",
    "      \"policyViolationWarnings\": {},\n",
    "      \"marketplaceId\": \"ATVPDKIKX0DER\"\n",
    "    }\n",
    "  ]\n",
    "}\n",
    "```\n",
    "\n",
    "</details>"
   ]
  },
  {
   "cell_type": "markdown",
   "id": "9513aadb-5ec0-4eb2-b838-1027c858662f",
   "metadata": {},
   "source": [
    "## 5️⃣ Resolution: \n"
   ]
  },
  {
   "cell_type": "markdown",
   "id": "fc4f886d-ec8a-4398-817a-4af93858ece1",
   "metadata": {
    "jp-MarkdownHeadingCollapsed": true
   },
   "source": [
    "### 🧐 Analysis\n",
    "\n",
    "We see `lateShipmentRate` of 0.4! 🤦‍♀️\n",
    "\n",
    "```\n",
    "\"lateShipmentRate\": {\n",
    "        \"reportingDateRange\": {\n",
    "          \"reportingDateFrom\": \"2025-05-27T00:00:00Z\",\n",
    "          \"reportingDateTo\": \"2025-06-25T23:59:59Z\"\n",
    "        },\n",
    "        \"status\": \"GOOD\",\n",
    "        \"targetValue\": 0.04,\n",
    "        \"targetCondition\": \"LESS_THAN\",\n",
    "        \"orderCount\": 0,\n",
    "        \"lateShipmentCount\": 0,\n",
    "        \"rate\": 0\n",
    "      },\n",
    "```\n",
    "\n",
    "That means majority of the orders for this SKU have been delayed. \n",
    "\n",
    "Looking at the getListingsItem response, there is no `lead_time_to_ship_max_days` attribute.\n",
    "\n",
    "```\n",
    "\"fulfillment_availability\": [\n",
    "            {\n",
    "                \"fulfillment_channel_code\": \"DEFAULT\",\n",
    "                \"quantity\": 3\n",
    "            }\n",
    "        ],\n",
    "```\n",
    "\n",
    "But in our company's internal record, it shows that lead time to ship is suppose to be *10 days* for this product type. 🚚 Why would this happen?\n",
    "\n",
    "Our team pulled a historical patchListingsItem submission. Can you observe and see why the lead time to ship value could have been wrong?\n",
    "\n",
    "<details>\n",
    "<summary><strong>Historical Submission</strong></summary>\n",
    "    \n",
    "```\n",
    "{\n",
    "    \"productType\": \"PRODUCT\",\n",
    "    \"patches\": [\n",
    "        {\n",
    "            \"op\": \"replace\",\n",
    "            \"path\": \"/attributes/fulfillment_availability\",\n",
    "            \"value\": [\n",
    "                {\n",
    "                    \"fulfillment_channel_code\": \"DEFAULT\",\n",
    "                    \"quantity\": 4\n",
    "                }\n",
    "            ]\n",
    "        }\n",
    "    ]\n",
    "}\n",
    "```\n",
    "</details>\n"
   ]
  },
  {
   "cell_type": "markdown",
   "id": "ac664baf-6c95-4d5a-ab77-238547cf2d04",
   "metadata": {},
   "source": [
    "### Future Submissions\n",
    "\n",
    "Our team has manually changed `lead_time_to_ship_max_days` back to 10 days in Seller Central. \n",
    "\n",
    "But we need to make sure we don't accidentally override the value again in the future. \n",
    "\n",
    "The team now need to update inventory to 4. Can you help come up with a request to update inventory without providing `lead_time_to_ship_max_days` attribute?\n",
    "\n",
    "<details>\n",
    "<summary><strong>💡 HINT</strong></summary>\n",
    "    \n",
    "_There is a [new merge operation](https://developer-docs.amazon.com/sp-api/changelog/update-listings-items-v2021-08-01-api-and-json_listing_feed-now-include-a-json-patch-merge-operation) introduced into the Listings APIs. You no longer need to pass optional field `lead_time_to_ship_max_days` when updating inventory only._\n",
    "\n",
    "</details>\n",
    "\n"
   ]
  },
  {
   "cell_type": "code",
   "execution_count": null,
   "id": "c12c7f8c-a03c-40de-a0cc-43b332dbbdb1",
   "metadata": {},
   "outputs": [],
   "source": [
    "body = {\n",
    "    \"productType\": \"PRODUCT\",\n",
    "    \"patches\": [\n",
    "        {\n",
    "            \"op\": \"merge\",\n",
    "            \"path\": \"/attributes/fulfillment_availability\",\n",
    "            \"value\": [\n",
    "                {\n",
    "                    \"fulfillment_channel_code\": \"DEFAULT\",\n",
    "                    \"quantity\": 4\n",
    "                }\n",
    "            ]\n",
    "        }\n",
    "    ]\n",
    "}\n",
    "patch_listing = listings_api.patch_listings_item('AMY6FKRUBY7XV', 'BICYCLE-GRAY-M',['ATVPDKIKX0DER'], body)\n",
    "print(\"💾 Submission result: \\n\", json.dumps(patch_listing.to_dict(), indent=4, default=str))"
   ]
  },
  {
   "cell_type": "code",
   "execution_count": null,
   "id": "6f9f7662-f010-4c8d-b0e6-43f665960534",
   "metadata": {},
   "outputs": [],
   "source": []
  }
 ],
 "metadata": {
  "kernelspec": {
   "display_name": "Python 3 (ipykernel)",
   "language": "python",
   "name": "python3"
  },
  "language_info": {
   "codemirror_mode": {
    "name": "ipython",
    "version": 3
   },
   "file_extension": ".py",
   "mimetype": "text/x-python",
   "name": "python",
   "nbconvert_exporter": "python",
   "pygments_lexer": "ipython3",
   "version": "3.12.3"
  }
 },
 "nbformat": 4,
 "nbformat_minor": 5
}
