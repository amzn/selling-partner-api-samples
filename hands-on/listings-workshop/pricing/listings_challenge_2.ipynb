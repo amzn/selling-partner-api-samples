{
 "cells": [
  {
   "cell_type": "markdown",
   "id": "a6079753-c256-4c58-a039-42dfeed7e412",
   "metadata": {},
   "source": [
    "# Challenge 2 - Resolving Pricing Performance Issues"
   ]
  },
  {
   "cell_type": "markdown",
   "id": "ec3197af-284d-4698-bd83-aafd2c002768",
   "metadata": {},
   "source": [
    "## 1️⃣ Intro\n",
    "### 🕵️‍♀️ Investigate Listings with Pricing Performance Issues\n",
    "\n",
    "Hello, fellow SP-API experts!\n",
    "\n",
    "\n",
    "I am writing to you on behalf of the 🪄ListingsWizard company. <br />\n",
    "Our team implemented a new pricing analytics tool based on the data kiosk learnings from our previous incident. <br />\n",
    "Looking into the analytics tool we noticed that there are some listings not converting well. <br />\n",
    "Can you please investigate and see how we can improve sales of these listings? My team has provided data access below to assist your investigation.\n",
    "\n",
    "\n",
    "Yours,\n",
    "ListingsWizard\n",
    "\n",
    "---\n",
    "\n",
    "_* The following scenario uses a mock server and mock data. No real data is used._"
   ]
  },
  {
   "cell_type": "markdown",
   "id": "5853fdca-c758-44f7-8780-d6905e810089",
   "metadata": {},
   "source": [
    "### Your Quest\n",
    "1. Analyze data 📈\n",
    "2. Identify root cause 👀\n",
    "3. Submit a fix 🔧\n",
    "\n",
    "On correct submission, you will receive a passcode. Raise your hand if you receive the passcode 🖐️\n",
    "\n",
    "First person to receive the correct passcode will be the 🪄 **Wizard of Glory** 💫💫💫\n"
   ]
  },
  {
   "cell_type": "markdown",
   "id": "b3b87ce9-21b6-4940-9ec0-a08d302ef52a",
   "metadata": {},
   "source": [
    "## 2️⃣ Setup\n",
    "### 🧰 Installing Selling Partner API SDK\n",
    "\n",
    "The **Amazon Selling Partner API SDK** is an official Amazon library that simplifies integration with Amazon’s SP-API. It handles things like authentication, request signing, and response parsing — so you can focus on building your solution instead of dealing with low-level API mechanics.\n",
    "\n",
    "With this SDK, you can easily access endpoints like Orders, Listings, Reports, Feeds, and **Buy Shipping** using clean, structured Python code.\n",
    "\n",
    "📚 Learn more or explore the source on GitHub: https://github.com/amzn/selling-partner-api-sdk/tree/main\n",
    "\n",
    "\n",
    "📦 To install the SDK, run the below block 👇"
   ]
  },
  {
   "cell_type": "code",
   "execution_count": null,
   "id": "ef145f6d-ce8c-4c21-804e-254ca8190350",
   "metadata": {},
   "outputs": [],
   "source": [
    "pip install amzn-sp-api"
   ]
  },
  {
   "cell_type": "markdown",
   "id": "19e8a5d2-9b3c-43c3-87f8-45836162fa41",
   "metadata": {},
   "source": [
    "---"
   ]
  },
  {
   "cell_type": "markdown",
   "id": "6250e025-519a-4098-a7f3-b9e10962ab86",
   "metadata": {},
   "source": [
    "## 3️⃣ Let's Data Kiosk!\n",
    "\n",
    "Data Kiosk lets you submit GraphQL queries from a variety of schemas to help manage selling partner businesses. You can use the following SDK to call Data Kiosk API.\n",
    "\n",
    "\n",
    "### 🔍 What is Data Kiosk?\n",
    "\n",
    "It’s your all-access pass to query Amazon datasets like sales, traffic, and profitability using GraphQL.\n",
    "\n",
    "You can:\n",
    "\n",
    "- Submit custom queries\n",
    "- Check their status\n",
    "- Download results\n",
    "  \n",
    "🙌 Time to get seller data with the power of GraphQL!\n",
    "\n"
   ]
  },
  {
   "cell_type": "markdown",
   "id": "0886b98c-4e57-4719-bf07-718b7f8175ee",
   "metadata": {},
   "source": [
    "---"
   ]
  },
  {
   "cell_type": "markdown",
   "id": "a211a4d3-fcb5-495e-b7c3-8b144f6a9844",
   "metadata": {},
   "source": [
    "### 🐛 Mocking the SDK\n",
    "\n",
    "\n",
    "Luckily the Amazon Solution Architect team created a mock server that can replicate the API responses without having credentials.\n",
    "\n",
    "Below you will find `mock_oauth_endpoint` and `mock_endpoint` variables that can be used to skip the credentials."
   ]
  },
  {
   "cell_type": "code",
   "execution_count": null,
   "id": "4b7d9770-ccdc-4edd-a910-242916c578f7",
   "metadata": {},
   "outputs": [],
   "source": [
    "from spapi.models.datakiosk_v2023_11_15 import GetDocumentResponse, CreateQueryResponse, GetQueriesResponse, Query\n",
    "from spapi.models.product_pricing_v2022_05_01 import CompetitiveSummaryRequest, CompetitiveSummaryResponse, CompetitiveSummaryIncludedData\n",
    "from spapi.models.listings_items_v2021_08_01 import patch_operation, listings_item_patch_request\n",
    "from spapi import SPAPIConfig, SPAPIClient, ApiException, QueriesApi, ProductPricingV2022Api, ListingsApi\n",
    "import json\n",
    "\n",
    "# Configuration for mock SP-API\n",
    "mock_oauth_endpoint = \"http://54.173.241.222/auth/o2/token\"\n",
    "mock_endpoint = \"http://54.173.241.222:80\"\n",
    "\n",
    "config = SPAPIConfig(\n",
    "    client_id=\"Chris\",\n",
    "    client_secret=\"Khoury\",\n",
    "    refresh_token=\"FakeToken\",\n",
    "    region=\"NA\"\n",
    ")\n",
    "client = SPAPIClient(config, endpoint=mock_endpoint, oauth_endpoint=mock_oauth_endpoint)\n",
    "\n",
    "data_kiosk_api = QueriesApi(client.api_client)\n",
    "pricing_api = ProductPricingV2022Api(client.api_client)\n",
    "listing_api= ListingsApi(client.api_client)\n",
    "\n",
    "print(\"Connected to SP-API\")\n"
   ]
  },
  {
   "cell_type": "markdown",
   "id": "8606a779-4ff2-45b8-9546-99112b6af2fe",
   "metadata": {},
   "source": [
    "---"
   ]
  },
  {
   "cell_type": "markdown",
   "id": "e6e525de-f5bd-4512-aee0-314316edeadc",
   "metadata": {},
   "source": [
    "### 🚶‍♂️ Steps to Get Data Kiosk Reports\n",
    "\n",
    "#### 🖥️ Step 1: Paste and create Query Below\n",
    "\n",
    "💡 Use the [Data Kiosk Schema Explorer UI](https://sellercentral.amazon.com/datakiosk-schema-explorer?schema=analytics_salesAndTraffic_2024_04_24) to build your perfect query, for now, you can use the one we built for you here:"
   ]
  },
  {
   "cell_type": "code",
   "execution_count": null,
   "id": "c8d26053-3778-45bb-a3b1-3491e81526e1",
   "metadata": {},
   "outputs": [],
   "source": [
    "graphql_query_str = (\n",
    "    \"query {analytics_salesAndTraffic_2024_04_24 \"\n",
    "    \"{salesAndTrafficByAsin(aggregateBy:CHILD,endDate:\\\"2025-06-06\\\",startDate:\\\"2025-03-01\\\",marketplaceIds:[\\\"ATVPDKIKX0DER\\\"]) \"\n",
    "    \"{sales {orderedProductSales {amount currencyCode} totalOrderItems unitsOrdered} \"\n",
    "    \"traffic {pageViews buyBoxPercentage} sku childAsin}}}\"\n",
    ")\n",
    "\n",
    "graphql_query = {\"query\": graphql_query_str}\n",
    "\n",
    "# Tell Amazon to start processing your query\n",
    "create_query_response = data_kiosk_api.create_query(body=graphql_query)\n",
    "print(\"✅ Query submitted! Response:\", create_query_response)"
   ]
  },
  {
   "cell_type": "markdown",
   "id": "c775f0ee-fd11-475e-9951-4ec7a8c88f60",
   "metadata": {},
   "source": [
    "---"
   ]
  },
  {
   "cell_type": "markdown",
   "id": "0e60f1f7-a4e4-4433-b23d-e77572948133",
   "metadata": {},
   "source": [
    "#### 📦 Step 4: Check If Your Data Is Ready to be fetched!\n",
    "\n",
    "Once the query is ready, you’ll receive a `dataDocumentId`. Use it to grab the results with `get_document` endpoint."
   ]
  },
  {
   "cell_type": "code",
   "execution_count": null,
   "id": "02bceeee-e931-4ccc-b01f-d3368fe6d335",
   "metadata": {},
   "outputs": [],
   "source": [
    "# Check the status of your query\n",
    "get_query_response = data_kiosk_api.get_query(query_id=create_query_response.query_id)\n",
    "print(\"⏱️ Query status:\", get_query_response)\n",
    "\n",
    "# Now let's get the actual data!\n",
    "get_document = data_kiosk_api.get_document(document_id=get_query_response.data_document_id)\n",
    "print(\"📊 Here's your data:\", get_document)"
   ]
  },
  {
   "cell_type": "markdown",
   "id": "e0998c79-343c-4136-a584-d037bddeae0b",
   "metadata": {},
   "source": [
    "---"
   ]
  },
  {
   "cell_type": "markdown",
   "id": "35b5369c-e2c6-4337-8df9-595f8c7e616d",
   "metadata": {},
   "source": [
    "### 📊 Visualize Your ASINs Data\n",
    "\n",
    "\n",
    "🧠 Let's get our Data Kiosk response and interpret it into a nice [dashboard](https://d179ewl1j38ou.cloudfront.net/dashboard.html)\n",
    "\n",
    "- This view will help you discover what's going wrong.\n",
    "- Copy the data kiosk response and paste into the dashboard interpret box.\n",
    "\n",
    "Make sure you’ve run the cell above so `get_document_response` is available.\n"
   ]
  },
  {
   "cell_type": "markdown",
   "id": "b809fadb-d296-4717-a552-4859286b5d6f",
   "metadata": {},
   "source": [
    "---"
   ]
  },
  {
   "cell_type": "markdown",
   "id": "2b004a2f-bc24-464e-8d2e-1c332e34b7e6",
   "metadata": {},
   "source": [
    "## 4️⃣ Troubleshooting: \n",
    "\n",
    "### 🫆 Clue\n",
    "\n",
    "Looks like the `VOLLEYBALL` SKU has a high page view but is not converting on sales compared with `TSHIRT` SKU. There must be something wrong.\n",
    "\n",
    "The developer found they were not using important APIs and notifications to avoid this scenarios as PRICING_HEALTH that might had alerted them once their price was not eligible to compete for the BuyBox anymore and getCompetitiveSummary that could bring more insights earlier\n",
    "\n",
    "To solve the issue, let's discover together some pricing information for calling the getCompetitiveSummary operation and analyze possible scenarios.\n",
    "\n"
   ]
  },
  {
   "cell_type": "markdown",
   "id": "6b8510a9b1f6358e",
   "metadata": {},
   "source": [
    "#### 🖥️ Step 1: Build our getCompetitiveSummary request\n",
    "\n",
    "💡 In order to check relevant prices and offers for the item, we are using `getCompetitiveSummary` to fetch this data. Let's build the request for it:"
   ]
  },
  {
   "cell_type": "code",
   "execution_count": null,
   "id": "7a5398c14a0b771f",
   "metadata": {},
   "outputs": [],
   "source": [
    "GCSBody = ({\n",
    "    \"requests\": [\n",
    "        {\n",
    "            \"asin\": \"B0CLZHRQK8\",\n",
    "            \"marketplaceId\": \"A2Q3Y263D00KWC\",\n",
    "            \"includedData\": [\n",
    "                \"featuredBuyingOptions\",\n",
    "                \"referencePrices\"\n",
    "            ],\n",
    "            \"lowestPricedOffers\": [\n",
    "            {\n",
    "                \"itemCondition\": \"New\",\n",
    "                \"offerType\": \"Consumer\"\n",
    "            }\n",
    "            ],\n",
    "            \"method\": \"GET\",\n",
    "            \"uri\": \"/products/pricing/2022-05-01/items/competitiveSummary\"\n",
    "        }\n",
    "    ]\n",
    "})"
   ]
  },
  {
   "cell_type": "code",
   "execution_count": null,
   "id": "b1b36cbd-ca0a-4e4f-8e9f-edfc49fa053a",
   "metadata": {},
   "outputs": [],
   "source": [
    "import json\n",
    "\n",
    "get_competitive_summary_response = pricing_api.get_competitive_summary(requests=GCSBody)\n",
    "\n",
    "print(json.dumps(get_competitive_summary_response.to_dict(), indent=4, default=str))"
   ]
  },
  {
   "cell_type": "markdown",
   "id": "4606a5904b5f40a8",
   "metadata": {},
   "source": [
    "#### 🖥️ Step 2: Analyze getCompetitiveSummary response.\n",
    "\n",
    "💡 Let's check the BuyBox current price and what is the CompetitivePrice for that item indicating when the seller offer is eligible to compete for the BuyBox.\n",
    "\n",
    "To do that, copy the response from the getCompetitiveSummary above and past into the [Pricing Analyzer](https://d179ewl1j38ou.cloudfront.net/pricing-analyzer.html)\n",
    "\n"
   ]
  },
  {
   "cell_type": "markdown",
   "id": "9513aadb-5ec0-4eb2-b838-1027c858662f",
   "metadata": {},
   "source": [
    "## 🚀 Updating Price\n",
    "\n",
    "We noticed that our SKU has a price above the `CompetitivePrice` indicating it is disqualified for the `FeaturedOffer`.\n",
    "\n",
    "You can also try it out using the [Pricing Analyzer](https://d179ewl1j38ou.cloudfront.net/pricing-analyzer.html). Simply copy the getCompetitiveSummary response and paste inside the *Competitive Price Analysis* text box.\n",
    "\n",
    "Using the `competitivePrice` from the `getCompetitiveSummary` API we can now update the item price using the `patchListingsItem` API."
   ]
  },
  {
   "cell_type": "code",
   "execution_count": null,
   "id": "37f273da-1ba6-4698-b4f1-7d1db92d2a26",
   "metadata": {},
   "outputs": [],
   "source": [
    "patch_body = (\n",
    "        {\n",
    "        \"productType\": \"PRODUCT\",\n",
    "        \"patches\": [\n",
    "            {\n",
    "                \"op\": \"replace\",\n",
    "                \"path\": \"/attributes/purchasable_offer\",\n",
    "                \"value\": [\n",
    "                    {\n",
    "                        \"currency\": \"BRL\",\n",
    "                        \"audience\": \"ALL\",\n",
    "                        \"marketplace_id\": \"A2Q3Y263D00KWC\",\n",
    "                        \"our_price\": [\n",
    "                            {\n",
    "                                \"schedule\": [\n",
    "                                    {\n",
    "                                        \"value_with_tax\": # provide value\n",
    "                                    }\n",
    "                                ]\n",
    "                            }\n",
    "                        ]\n",
    "                    }\n",
    "                ]\n",
    "            }\n",
    "        ]\n",
    "    }\n",
    ")"
   ]
  },
  {
   "cell_type": "code",
   "execution_count": null,
   "id": "524920982c92606e",
   "metadata": {},
   "outputs": [],
   "source": [
    "import json\n",
    "\n",
    "patch_listings_item_request = listing_api.patch_listings_item(seller_id=\"A2ZPJ4TLUOSWY8\",sku=\"VOLLEYBALL\",marketplace_ids=[\"A2Q3Y263D00KWC\"],body=patch_body)\n",
    "\n",
    "print(\"📊 Here's your pricing update: \\n\", json.dumps(patch_listings_item_request.to_dict(), indent=4, default=str))"
   ]
  }
 ],
 "metadata": {
  "kernelspec": {
   "display_name": "conda_python3",
   "language": "python",
   "name": "conda_python3"
  },
  "language_info": {
   "codemirror_mode": {
    "name": "ipython",
    "version": 3
   },
   "file_extension": ".py",
   "mimetype": "text/x-python",
   "name": "python",
   "nbconvert_exporter": "python",
   "pygments_lexer": "ipython3",
   "version": "3.12.3"
  }
 },
 "nbformat": 4,
 "nbformat_minor": 5
}
