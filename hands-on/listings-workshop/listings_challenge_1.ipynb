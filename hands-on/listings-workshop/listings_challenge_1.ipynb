{
 "cells": [
  {
   "cell_type": "markdown",
   "id": "a6079753-c256-4c58-a039-42dfeed7e412",
   "metadata": {},
   "source": [
    "# Challenge 1 - Low Conversion"
   ]
  },
  {
   "cell_type": "markdown",
   "id": "ec3197af-284d-4698-bd83-aafd2c002768",
   "metadata": {},
   "source": [
    "## 1️⃣ Intro\n",
    "### 🕵️‍♀️ Investigate Low Conversion Listings\n",
    "\n",
    "Hello, fellow SP-API experts!\n",
    "\n",
    "\n",
    "I am writing to you on behalf of the 🪄ListingsWizard company. <br />\n",
    "In recent reporting, we noticed **something unusual** with our Listings Sales Conversion. <br />\n",
    "Can you please investigate and recover the sales? My team has provided data access below to assist your investigation.\n",
    "\n",
    "\n",
    "Yours,\n",
    "ListingsWizard\n",
    "\n",
    "---\n",
    "\n",
    "_* The following scenario uses a mock server and mock data. No real data is used._"
   ]
  },
  {
   "cell_type": "markdown",
   "id": "5853fdca-c758-44f7-8780-d6905e810089",
   "metadata": {},
   "source": [
    "### Your Quest\n",
    "1. Analyze data 📈\n",
    "2. Identify root cause 👀\n",
    "3. Submit a fix 🔧\n",
    "\n",
    "On correct submission, you will receive a passcode. First person to receive the correct passcode will be the 🪄 **Wizard of Glory** 💫💫💫\n"
   ]
  },
  {
   "cell_type": "markdown",
   "id": "b3b87ce9-21b6-4940-9ec0-a08d302ef52a",
   "metadata": {},
   "source": [
    "## 2️⃣ Setup\n",
    "### 🧰 Installing Selling Partner API SDK\n",
    "\n",
    "The **Amazon Selling Partner API SDK** is an official Amazon library that simplifies integration with Amazon’s SP-API. It handles things like authentication, request signing, and response parsing — so you can focus on building your solution instead of dealing with low-level API mechanics.\n",
    "\n",
    "With this SDK, you can easily access endpoints like Data Kiosk, Listings, Pricing using clean, structured Python code.\n",
    "\n",
    "📚 Learn more or explore the source on GitHub: https://github.com/amzn/selling-partner-api-sdk/tree/main\n",
    "\n",
    "\n",
    "📦 To install the SDK, run the below block 👇"
   ]
  },
  {
   "cell_type": "code",
   "execution_count": null,
   "id": "ef145f6d-ce8c-4c21-804e-254ca8190350",
   "metadata": {},
   "outputs": [],
   "source": [
    "pip install amzn-sp-api"
   ]
  },
  {
   "cell_type": "markdown",
   "id": "19e8a5d2-9b3c-43c3-87f8-45836162fa41",
   "metadata": {},
   "source": [
    "---"
   ]
  },
  {
   "cell_type": "markdown",
   "id": "434eab12-8b5e-4e99-b9c6-84137d2de6f4",
   "metadata": {},
   "source": [
    "# 3️⃣ Challenge"
   ]
  },
  {
   "cell_type": "markdown",
   "id": "84e412bd-da81-4338-870c-7411da98a5e7",
   "metadata": {},
   "source": [
    "## 📊 Let's Data Kiosk!\n",
    "\n",
    "Data Kiosk lets you submit GraphQL queries from a variety of schemas to help manage selling partner businesses. You can use the following SDK to call Data Kiosk API.\n",
    "\n",
    "\n",
    "### 🔍 What is Data Kiosk?\n",
    "\n",
    "It’s your all-access pass to query Amazon datasets like sales, traffic, and profitability using GraphQL.\n",
    "\n",
    "You can:\n",
    "\n",
    "- Submit custom queries\n",
    "- Check their status\n",
    "- Download results\n",
    "  \n",
    "🙌 Time to get seller data with the power of GraphQL!\n",
    "\n"
   ]
  },
  {
   "cell_type": "markdown",
   "id": "2789b92b-0b41-455a-963c-bcb614c12527",
   "metadata": {},
   "source": [
    "---"
   ]
  },
  {
   "cell_type": "markdown",
   "id": "a211a4d3-fcb5-495e-b7c3-8b144f6a9844",
   "metadata": {},
   "source": [
    "### 🐛 Mocking the SDK\n",
    "\n",
    "\n",
    "Luckily the Amazon Solution Architect team created a mock server that can replicate the API responses without having credentials.\n",
    "\n",
    "Below you will find `mock_oauth_endpoint` and `mock_endpoint` variables that can be used to skip the credentials."
   ]
  },
  {
   "cell_type": "code",
   "execution_count": null,
   "id": "4b7d9770-ccdc-4edd-a910-242916c578f7",
   "metadata": {},
   "outputs": [],
   "source": [
    "from spapi.models.datakiosk_v2023_11_15 import GetDocumentResponse, CreateQueryResponse, GetQueriesResponse, Query\n",
    "from spapi import SPAPIConfig, SPAPIClient, ApiException, QueriesApi, ListingsApi\n",
    "\n",
    "# Configuration for mock SP-API\n",
    "mock_oauth_endpoint = \"http://54.173.241.222:80/auth/o2/token\"\n",
    "mock_endpoint = \"http://54.173.241.222:80\"\n",
    "\n",
    "config = SPAPIConfig(\n",
    "    client_id=\"Chris\",\n",
    "    client_secret=\"Khoury\",\n",
    "    refresh_token=\"FakeToken\",\n",
    "    region=\"NA\"\n",
    ")\n",
    "client = SPAPIClient(config, endpoint=mock_endpoint, oauth_endpoint=mock_oauth_endpoint)\n",
    "\n",
    "data_kiosk_api = QueriesApi(client.api_client)\n",
    "listings_api = ListingsApi(client.api_client)"
   ]
  },
  {
   "cell_type": "markdown",
   "id": "8606a779-4ff2-45b8-9546-99112b6af2fe",
   "metadata": {},
   "source": [
    "---"
   ]
  },
  {
   "cell_type": "markdown",
   "id": "8fc08f77-2d3f-4c46-a88a-ccb00db8ed65",
   "metadata": {},
   "source": [
    "### 🚶‍♂️ Steps to Get Data Kiosk Reports\n",
    "\n",
    "#### 🖥️ Step 1: Paste Your Query Below\n",
    "\n",
    "💡 Use the [Data Kiosk Schema Explorer UI](https://sellercentral.amazon.com/datakiosk-schema-explorer?schema=analytics_salesAndTraffic_2024_04_24) to build your perfect query, for now, you can use the one we built for you here:"
   ]
  },
  {
   "cell_type": "code",
   "execution_count": null,
   "id": "5680394a-bd8e-434b-8da8-2981614bb745",
   "metadata": {},
   "outputs": [],
   "source": [
    "graphql_query_str = (\"query { analytics_economics_2024_03_15 { economics( marketplaceIds: [\\\"ATVPDKIKX0DER\\\"], \"\n",
    "                 \"startDate: \\\"2025-06-01\\\", endDate: \\\"2025-06-05\\\", \"\n",
    "                 \"aggregateBy: { date: DAY, productId: MSKU } ) \"\n",
    "                 \"{ startDate endDate msku marketplaceId sales { unitsOrdered netUnitsSold \"\n",
    "                 \"netProductSales { amount currencyCode } } netProceeds { total { amount currencyCode } } } } }\")\n",
    "graphql_query = {\"query\": graphql_query_str}"
   ]
  },
  {
   "cell_type": "markdown",
   "id": "9fa9b330-25a9-4e2a-9611-fa1d557387e5",
   "metadata": {},
   "source": [
    "---"
   ]
  },
  {
   "cell_type": "markdown",
   "id": "fc527d25-179b-4034-b5d7-a25a6fdb1814",
   "metadata": {},
   "source": [
    "#### 🚀 Step 2: Send the Query\n",
    "Let Amazon know you’re ready to roll by calling `create_query`."
   ]
  },
  {
   "cell_type": "code",
   "execution_count": null,
   "id": "f183931b-3dad-43ec-8195-a12e6903531b",
   "metadata": {},
   "outputs": [],
   "source": [
    "# Tell Amazon to start processing your query\n",
    "create_query_response = data_kiosk_api.create_query(body=graphql_query)\n",
    "print(\"✅ Query submitted! Response:\", create_query_response)"
   ]
  },
  {
   "cell_type": "markdown",
   "id": "648d1e1c-a97c-47cb-a32a-f1b0dd8094e2",
   "metadata": {},
   "source": [
    "---"
   ]
  },
  {
   "cell_type": "markdown",
   "id": "5dad3694-7781-44c0-80dc-b8275bd94e2b",
   "metadata": {},
   "source": [
    "#### ⏳ Step 3: Check If Your Data Is Ready\n",
    "\n",
    "You can either:\n",
    "\n",
    "- Keep checking with `get_query`, or\n",
    "- 🧠 Be smart _well-architected_ and subscribe to the [DATA_KIOSK_QUERY_PROCESSING_FINISHED](https://developer-docs.amazon.com/sp-api/docs/data-kiosk-notification) notification for automatic updates.\n",
    "\n",
    "Here, we’ll use polling just once for simplicity - if data is ready a `dataDocumentId` attribute will be reutrned:"
   ]
  },
  {
   "cell_type": "code",
   "execution_count": null,
   "id": "82f12e3f-7611-477c-8d73-dbf3224da3c8",
   "metadata": {},
   "outputs": [],
   "source": [
    "# Check the status of your query\n",
    "get_query_response = data_kiosk_api.get_query(query_id=create_query_response.query_id)\n",
    "print(\"⏱️ Query status:\", get_query_response)"
   ]
  },
  {
   "cell_type": "markdown",
   "id": "b4d43ff0-7b73-4c10-8f56-b7283e60df73",
   "metadata": {},
   "source": [
    "---"
   ]
  },
  {
   "cell_type": "markdown",
   "id": "9f0c6a4c-9f8e-4462-909a-759cb532189a",
   "metadata": {},
   "source": [
    "#### 📦 Step 4: Get Your Data!\n",
    "\n",
    "Once the query is ready, you’ll receive a `dataDocumentId`. Use it to grab the results with `get_document` endpoint."
   ]
  },
  {
   "cell_type": "code",
   "execution_count": null,
   "id": "ebcb33a8-8e3e-4b5e-869b-e996841cf63e",
   "metadata": {},
   "outputs": [],
   "source": [
    "# Now let's get the actual data!\n",
    "get_document = data_kiosk_api.get_document(document_id=get_query_response.data_document_id)\n",
    "print(\"📊 Here's your data:\", get_document)"
   ]
  },
  {
   "cell_type": "markdown",
   "id": "dbeb4807-e9aa-45c7-b82f-78adfba514c4",
   "metadata": {},
   "source": [
    "---"
   ]
  },
  {
   "cell_type": "markdown",
   "id": "5b209d61-ac26-42ad-a22f-1b2626caa6fe",
   "metadata": {},
   "source": [
    "### 📊 Visualize Your Economics Data\n",
    "\n",
    "Let’s bring the numbers to life!\n",
    "\n",
    "Below, we’ll:\n",
    "- Parse the economics data from `get_document_response`\n",
    "- Build a DataFrame\n",
    "- Plot net product sales and units sold per SKU\n",
    "\n",
    "Make sure you’ve run the cell above so `get_document_response` is available.\n"
   ]
  },
  {
   "cell_type": "code",
   "execution_count": null,
   "id": "7250c7cd-62cd-4ce3-9c40-db746184a37f",
   "metadata": {},
   "outputs": [],
   "source": [
    "import ast\n",
    "import pandas as pd\n",
    "import matplotlib.pyplot as plt\n",
    "\n",
    "# Safely convert the string to a dictionary\n",
    "parsed_document = ast.literal_eval(get_document.document_url)\n",
    "\n",
    "# Extract the economics data\n",
    "economics_data = parsed_document[\"data\"][\"analytics_economics_2024_03_15\"][\"economics\"]\n",
    "\n",
    "# Build a DataFrame\n",
    "df = pd.DataFrame([\n",
    "    {\n",
    "        \"MSKU\": item[\"msku\"],\n",
    "        \"Start Date\": item[\"startDate\"],\n",
    "        \"End Date\": item[\"endDate\"],\n",
    "        \"Net Product Sales ($)\": item[\"sales\"][\"netProductSales\"][\"amount\"],\n",
    "        \"Units Sold\": item[\"sales\"][\"netUnitsSold\"]\n",
    "    }\n",
    "    for item in economics_data\n",
    "])\n",
    "\n",
    "# Show the raw data\n",
    "print(\"🧾 Parsed Economics Data:\")\n",
    "display(df)\n",
    "\n",
    "# Plotting\n",
    "fig, ax1 = plt.subplots(figsize=(10, 6))\n",
    "\n",
    "# Bar chart for Net Product Sales\n",
    "ax1.bar(df[\"MSKU\"], df[\"Net Product Sales ($)\"], label='Net Product Sales ($)')\n",
    "ax1.set_ylabel(\"Sales ($)\", fontsize=12)\n",
    "ax1.set_title(\"Net Product Sales vs Units Sold by MSKU\", fontsize=14)\n",
    "ax1.set_xlabel(\"MSKU\", fontsize=12)\n",
    "ax1.legend(loc=\"upper left\")\n",
    "\n",
    "# Line chart for Units Sold\n",
    "ax2 = ax1.twinx()\n",
    "ax2.plot(df[\"MSKU\"], df[\"Units Sold\"], color='orange', marker='o', label='Units Sold')\n",
    "ax2.set_ylabel(\"Units Sold\", fontsize=12)\n",
    "ax2.legend(loc=\"upper right\")\n",
    "\n",
    "plt.tight_layout()\n",
    "plt.show()\n"
   ]
  },
  {
   "cell_type": "markdown",
   "id": "b83580c3-c5eb-4283-a96d-35bbdf6ba065",
   "metadata": {},
   "source": [
    "---"
   ]
  },
  {
   "cell_type": "markdown",
   "id": "2b004a2f-bc24-464e-8d2e-1c332e34b7e6",
   "metadata": {},
   "source": [
    "## 4️⃣ Troubleshooting: \n",
    "\n",
    "### 🫆 Clue\n",
    "\n",
    "Looks like all the SKUs with the `POWERSPORTS_PROTECTIVE_GEAR` product type are experiencing low sales in the US marketplace! Interestingly, the same SKUs are performing quite well in Canada and Mexico, which suggests there may be an issue specific to the US marketplace. \n",
    "\n",
    "Use the code below to call getListingsItems operation on one of the SKUs with the `POWERSPORTS_PROTECTIVE_GEAR` product type in the US to investigate further. \n"
   ]
  },
  {
   "cell_type": "code",
   "execution_count": null,
   "id": "b1b36cbd-ca0a-4e4f-8e9f-edfc49fa053a",
   "metadata": {},
   "outputs": [],
   "source": [
    "import json\n",
    "get_listing = listings_api.get_listings_item('AMY6FKRUBY7XV', \n",
    "                                             'MOTOR-GEAR-US',\n",
    "                                             ['ATVPDKIKX0DER'], \n",
    "                                             included_data=['issues'])\n",
    "\n",
    "print(\"🛍️ Here's your listing: \\n\", json.dumps(get_listing.to_dict(), indent=4, default=str))"
   ]
  },
  {
   "cell_type": "markdown",
   "id": "9513aadb-5ec0-4eb2-b838-1027c858662f",
   "metadata": {},
   "source": [
    "## 5️⃣ Resolution: \n",
    "\n",
    "### 🧐 Analysis\n",
    "\n",
    "We noticed that there is an `ERROR` severity issue in `getListingsItems` response, making it no longer discoverable in the US marketplace! And attribute is indeed missing from the attributes data. \n",
    "\n",
    "But `MISSING_ATTRIBUTE` issue is a synchonous error that returns on submission. How come my team did not receive any error when they submitted the listing. What went wrong!!? \n",
    "\n",
    "<details>\n",
    "<summary><strong>Click to see issue</strong></summary>\n",
    "\n",
    "```\n",
    "[ {\n",
    "      \"code\" : \"90220\",\n",
    "      \"message\" : \"Department Name is required but was not provided.\",\n",
    "      \"severity\" : \"ERROR\",\n",
    "      \"attributeNames\" : [ \"department\" ],\n",
    "      \"categories\" : [ \"MISSING_ATTRIBUTE\" ],\n",
    "      \"enforcements\" : {\n",
    "        \"actions\" : [ {\n",
    "          \"action\" : \"SEARCH_SUPPRESSED\"\n",
    "        } ],\n",
    "        \"exemption\" : {\n",
    "          \"status\" : \"NOT_EXEMPT\"\n",
    "        }\n",
    "      }\n",
    "    } ]\n",
    "```\n",
    "\n",
    "_90220 error code usually means a required attribute is missing. _\n",
    "\n",
    "</details>\n",
    "<br />\n",
    "\n",
    "### 🛠️ Fix\n",
    "\n",
    "Our team pulled the historical `putListingsItem` submission that created this listing.\n",
    "\n",
    "<details>\n",
    "<summary><strong>MX Marketplace Submission</strong></summary>\n",
    "    \n",
    "```\n",
    "{\n",
    "    \"productType\": \"POWERSPORTS_PROTECTIVE_GEAR\",\n",
    "    \"attributes\": {\n",
    "        \"color\": [\n",
    "            {\n",
    "                \"value\": \"A set-Black\",\n",
    "                \"language_tag\": \"es_MX\",\n",
    "                \"marketplace_id\": \"A1AM78C64UM0Y8\"\n",
    "            }\n",
    "        ]\n",
    "        ...\n",
    "    },\n",
    "    \"requirements\": \"LISTING\"\n",
    "}\n",
    "```\n",
    "</details>\n",
    "\n",
    "<details>\n",
    "<summary><strong>US Marketplace Submission</strong></summary>\n",
    "    \n",
    "```\n",
    "{\n",
    "    \"productType\": \"POWERSPORTS_VEHICLE_PART\",\n",
    "    \"attributes\": {\n",
    "        \"color\": [\n",
    "            {\n",
    "                \"value\": \"A set-Black\",\n",
    "                \"language_tag\": \"en_US\",\n",
    "                \"marketplace_id\": \"ATVPDKIKX0DER\"\n",
    "            }\n",
    "        ]\n",
    "        ...\n",
    "    },\n",
    "    \"requirements\": \"LISTING\"\n",
    "}\n",
    "```\n",
    "</details>\n",
    "<br />\n",
    "Can you spot the difference here? 🔎\n",
    "\n",
    "Our team has prepared a patchListingsItem request below. Fill out the correct attributes to update to fix the Listings Error!\n",
    "\n",
    "<details>\n",
    "<summary><strong>💡 HINT</strong></summary>\n",
    "    \n",
    "_*Products should maintain the same product type across all marketplaces. While it's technically possible to assign different product types in different marketplaces, this practice often leads to complications. The catalog system may automatically reclassify your contributions, resulting in missing required attributes, incorrect variation themes, and other technical issues.*_\n",
    "\n",
    "_*Check getListingsItem response summary object to find the correct product type to use*_\n",
    "\n",
    "</details>\n"
   ]
  },
  {
   "cell_type": "code",
   "execution_count": null,
   "id": "37f273da-1ba6-4698-b4f1-7d1db92d2a26",
   "metadata": {},
   "outputs": [],
   "source": [
    "import json\n",
    "body = {\n",
    "  \"productType\": # provide value,\n",
    "  \"patches\": [\n",
    "    {\n",
    "      \"op\": \"replace\",\n",
    "      \"path\": # provide value,\n",
    "      \"value\": [\n",
    "        {\n",
    "          \"language_tag\": \"en_US\",\n",
    "          \"marketplace_id\": 1,\n",
    "          \"value\": \"Unisex\"\n",
    "        }\n",
    "      ]\n",
    "    }\n",
    "  ]\n",
    "} \n",
    "patch_listing = listings_api.patch_listings_item('AMY6FKRUBY7XV', 'MOTOR-GEAR-US',['ATVPDKIKX0DER'], body)\n",
    "print(\"💾 Submission result: \\n\", json.dumps(patch_listing.to_dict(), indent=4, default=str))"
   ]
  }
 ],
 "metadata": {
  "kernelspec": {
   "display_name": "conda_python3",
   "language": "python",
   "name": "conda_python3"
  },
  "language_info": {
   "codemirror_mode": {
    "name": "ipython",
    "version": 3
   },
   "file_extension": ".py",
   "mimetype": "text/x-python",
   "name": "python",
   "nbconvert_exporter": "python",
   "pygments_lexer": "ipython3",
   "version": "3.12.3"
  }
 },
 "nbformat": 4,
 "nbformat_minor": 5
}
