{
 "cells": [
  {
   "cell_type": "markdown",
   "id": "a6079753-c256-4c58-a039-42dfeed7e412",
   "metadata": {},
   "source": [
    "# Data Kiosk with SP-API SDK: Generate, Run, and Visualize Queries"
   ]
  },
  {
   "cell_type": "markdown",
   "id": "b3b87ce9-21b6-4940-9ec0-a08d302ef52a",
   "metadata": {},
   "source": [
    "## Setup\n",
    "### 🧰 Installing Selling Partner API SDK\n",
    "\n",
    "The **Amazon Selling Partner API SDK** is an official Amazon library that simplifies integration with Amazon’s SP-API. It handles things like authentication, request signing, and response parsing — so you can focus on building your solution instead of dealing with low-level API mechanics.\n",
    "\n",
    "With this SDK, you can easily access endpoints like Orders, Listings, Reports, Feeds, and **Buy Shipping** using clean, structured Python code.\n",
    "\n",
    "📚 Learn more or explore the source on GitHub: https://github.com/amzn/selling-partner-api-sdk/tree/main\n",
    "\n",
    "\n",
    "📦 To install the SDK, run the below block 👇"
   ]
  },
  {
   "cell_type": "code",
   "execution_count": null,
   "id": "ef145f6d-ce8c-4c21-804e-254ca8190350",
   "metadata": {
    "ExecuteTime": {
     "end_time": "2025-09-05T08:45:48.456073Z",
     "start_time": "2025-09-05T08:45:40.864569Z"
    }
   },
   "outputs": [],
   "source": [
    "pip install amzn-sp-api==1.2.0"
   ]
  },
  {
   "cell_type": "markdown",
   "id": "6250e025-519a-4098-a7f3-b9e10962ab86",
   "metadata": {},
   "source": [
    "## Let's Data Kiosk!\n",
    "\n",
    "Data Kiosk lets you submit GraphQL queries from a variety of schemas to help manage selling partner businesses. You can use the following SDK to call Data Kiosk API.\n",
    "\n",
    "\n",
    "### 🔍 What is Data Kiosk?\n",
    "\n",
    "It’s your all-access pass to query Amazon datasets like sales, traffic, and profitability using GraphQL.\n",
    "\n",
    "You can:\n",
    "\n",
    "- Submit custom queries\n",
    "- Check their status\n",
    "- Download results\n",
    "  \n",
    "🙌 Time to get seller data with the power of GraphQL!\n",
    "\n"
   ]
  },
  {
   "cell_type": "markdown",
   "id": "0886b98c-4e57-4719-bf07-718b7f8175ee",
   "metadata": {},
   "source": [
    "---"
   ]
  },
  {
   "cell_type": "markdown",
   "id": "a211a4d3-fcb5-495e-b7c3-8b144f6a9844",
   "metadata": {},
   "source": [
    "### 🐛 Configuring the SDK\n",
    "\n",
    "\n",
    "Luckily the Amazon Solution Architect team created a mock server that can replicate the API responses without having credentials.\n",
    "\n",
    "Below you will find `mock_oauth_endpoint` and `mock_endpoint` variables that can be used to skip the credentials."
   ]
  },
  {
   "cell_type": "code",
   "execution_count": null,
   "id": "4b7d9770-ccdc-4edd-a910-242916c578f7",
   "metadata": {
    "ExecuteTime": {
     "end_time": "2025-09-05T08:46:03.140419Z",
     "start_time": "2025-09-05T08:45:48.635393Z"
    }
   },
   "outputs": [],
   "source": [
    "from spapi.models.datakiosk_v2023_11_15 import GetDocumentResponse, CreateQueryResponse, GetQueriesResponse, Query\n",
    "from spapi import SPAPIConfig, SPAPIClient, ApiException, QueriesApi, ProductPricingV2022Api, ListingsApi\n",
    "import json\n",
    "\n",
    "# Configuration for mock SP-API\n",
    "mock_oauth_endpoint = \"INSERT_OAUTH_MOCK_ENDPOINT\"\n",
    "mock_endpoint = \"INSERT_MOCK_ENDPOINT\"\n",
    "\n",
    "config = SPAPIConfig(\n",
    "    client_id=\"YOUR_CLIENT_ID\",\n",
    "    client_secret=\"YOUR_CLIENT_SECRET\",\n",
    "    refresh_token=\"YOUR_REFRESH_TOKEN\",\n",
    "    region=\"NA\"\n",
    ")\n",
    "\n",
    "# Initializing MOCK SP-API SDK Client\n",
    "client = SPAPIClient(config, endpoint=mock_endpoint, oauth_endpoint=mock_oauth_endpoint)\n",
    "\n",
    "# Uncomment the below line if you want to test in prod and not make MOCK calls\n",
    "# client = SPAPIClient(config)\n",
    "\n",
    "# Initializing the Data Kiosk API Client\n",
    "data_kiosk_api = QueriesApi(client.api_client)\n",
    "\n",
    "print(\"Connected to SP-API\")\n"
   ]
  },
  {
   "cell_type": "markdown",
   "id": "8606a779-4ff2-45b8-9546-99112b6af2fe",
   "metadata": {},
   "source": [
    "---"
   ]
  },
  {
   "cell_type": "markdown",
   "id": "e6e525de-f5bd-4512-aee0-314316edeadc",
   "metadata": {},
   "source": [
    "### 🚶‍♂️ Steps to Get Data Kiosk Reports\n",
    "\n",
    "#### 🖥️ Step 1: Paste and create Query Below\n",
    "\n",
    "💡 Use the [Data Kiosk Schema Explorer UI](https://sellercentral.amazon.com/datakiosk-schema-explorer?schema=analytics_salesAndTraffic_2024_04_24) to build your perfect query, for now, you can use the one we built for you here:"
   ]
  },
  {
   "cell_type": "code",
   "execution_count": null,
   "id": "c8d26053-3778-45bb-a3b1-3491e81526e1",
   "metadata": {},
   "outputs": [],
   "source": [
    "# This is a sample query - please update with your own query\n",
    "# Make sure to use backspaces with the quotation marks\n",
    "graphql_query_str = (\n",
    "    \"query {analytics_salesAndTraffic_2024_04_24 \"\n",
    "    \"{salesAndTrafficByAsin(aggregateBy:CHILD,endDate:\\\"2025-06-06\\\",startDate:\\\"2025-03-01\\\",marketplaceIds:[\\\"ATVPDKIKX0DER\\\"]) \"\n",
    "    \"{sales {orderedProductSales {amount currencyCode} totalOrderItems unitsOrdered} \"\n",
    "    \"traffic {pageViews buyBoxPercentage} sku childAsin}}}\"\n",
    ")\n",
    "\n",
    "graphql_query = {\"query\": graphql_query_str}\n",
    "\n",
    "# Tell Amazon to start processing your query\n",
    "create_query_response = data_kiosk_api.create_query(body=graphql_query)\n",
    "print(\"✅ Query submitted! Response:\", create_query_response)"
   ]
  },
  {
   "cell_type": "markdown",
   "id": "c775f0ee-fd11-475e-9951-4ec7a8c88f60",
   "metadata": {},
   "source": [
    "---"
   ]
  },
  {
   "cell_type": "markdown",
   "id": "dc3813e3-f9d2-45cb-a1f1-b7b141596f1b",
   "metadata": {},
   "source": [
    "#### 🚀 Step 2: Send the Query\n",
    "Let Amazon know you’re ready to roll by calling `create_query`."
   ]
  },
  {
   "cell_type": "code",
   "execution_count": null,
   "id": "22d659b2-f89a-4c7e-bd5b-adf13ba85ccf",
   "metadata": {},
   "outputs": [],
   "source": [
    "# Tell Amazon to start processing your query\n",
    "create_query_response = data_kiosk_api.create_query(body=graphql_query)\n",
    "print(\"✅ Query submitted! Response:\", create_query_response)"
   ]
  },
  {
   "cell_type": "markdown",
   "id": "c28072ff-18cb-4351-be16-4fc49b31430b",
   "metadata": {},
   "source": [
    "---"
   ]
  },
  {
   "cell_type": "markdown",
   "id": "b5864de6-64e5-40e3-bf17-462fb4a47e55",
   "metadata": {},
   "source": [
    "#### ⏳ Step 3: Check If Your Data Is Ready\n",
    "\n",
    "You can either:\n",
    "\n",
    "- Keep checking with `get_query`, or\n",
    "- 🧠 Be smart _well-architected_ and subscribe to the [DATA_KIOSK_QUERY_PROCESSING_FINISHED](https://developer-docs.amazon.com/sp-api/docs/data-kiosk-notification) notification for automatic updates.\n",
    "\n",
    "Here, we’ll use polling just once for simplicity - if data is ready a `dataDocumentId` attribute will be reutrned:"
   ]
  },
  {
   "cell_type": "code",
   "execution_count": null,
   "id": "0857ee42-ce36-4252-8a11-2ca395f1b1de",
   "metadata": {},
   "outputs": [],
   "source": [
    "# Check the status of your query\n",
    "get_query_response = data_kiosk_api.get_query(query_id=create_query_response.query_id)\n",
    "print(\"⏱️ Query status:\", get_query_response)"
   ]
  },
  {
   "cell_type": "markdown",
   "id": "b6fd9f59-11dc-43de-8889-f767a2e3f79d",
   "metadata": {},
   "source": [
    "---"
   ]
  },
  {
   "cell_type": "markdown",
   "id": "0e60f1f7-a4e4-4433-b23d-e77572948133",
   "metadata": {},
   "source": [
    "#### 📦 Step 4: Get Your Data!\n",
    "\n",
    "Once the query is ready, you’ll receive a `dataDocumentId`. Use it to grab the results with `get_document` endpoint."
   ]
  },
  {
   "cell_type": "code",
   "execution_count": null,
   "id": "02bceeee-e931-4ccc-b01f-d3368fe6d335",
   "metadata": {},
   "outputs": [],
   "source": [
    "# Now let's get the actual data!\n",
    "get_document = data_kiosk_api.get_document(document_id=get_query_response.data_document_id)\n",
    "print(\"📊 Here's your data:\", get_document)"
   ]
  },
  {
   "cell_type": "markdown",
   "id": "e0998c79-343c-4136-a584-d037bddeae0b",
   "metadata": {},
   "source": [
    "---"
   ]
  },
  {
   "cell_type": "markdown",
   "id": "35b5369c-e2c6-4337-8df9-595f8c7e616d",
   "metadata": {},
   "source": [
    "### 📊 Visualize Your Data\n",
    "\n",
    "\n",
    "🧠 Let's get our Data Kiosk response and interpret it into a nice dashboard.\n",
    "\n",
    "Below, we’ll:\n",
    "- Parse the economics data from `get_document_response`\n",
    "- Build a DataFrame\n",
    "- Plot net product sales and units sold per SKU\n",
    "\n",
    "Make sure you’ve run the cell above so `get_document_response` is available.\n",
    "\n",
    "🚨 Update this code to plot the metrics that make sense based on the query you submitted\n"
   ]
  },
  {
   "cell_type": "code",
   "execution_count": null,
   "id": "dc0721a2-e9ab-403f-b87b-4ef0883e35a9",
   "metadata": {},
   "outputs": [],
   "source": [
    "import ast\n",
    "import pandas as pd\n",
    "import matplotlib.pyplot as plt\n",
    "\n",
    "# Safely convert the string to a dictionary\n",
    "parsed_document = ast.literal_eval(get_document.document_url)\n",
    "\n",
    "# Extract the economics data\n",
    "economics_data = parsed_document[\"data\"][\"analytics_economics_2024_03_15\"][\"economics\"]\n",
    "\n",
    "# Build a DataFrame\n",
    "df = pd.DataFrame([\n",
    "    {\n",
    "        \"MSKU\": item[\"msku\"],\n",
    "        \"Start Date\": item[\"startDate\"],\n",
    "        \"End Date\": item[\"endDate\"],\n",
    "        \"Net Product Sales ($)\": item[\"sales\"][\"netProductSales\"][\"amount\"],\n",
    "        \"Units Sold\": item[\"sales\"][\"netUnitsSold\"]\n",
    "    }\n",
    "    for item in economics_data\n",
    "])\n",
    "\n",
    "# Show the raw data\n",
    "print(\"🧾 Parsed Economics Data:\")\n",
    "display(df)\n",
    "\n",
    "# Plotting\n",
    "fig, ax1 = plt.subplots(figsize=(10, 6))\n",
    "\n",
    "# Bar chart for Net Product Sales\n",
    "ax1.bar(df[\"MSKU\"], df[\"Net Product Sales ($)\"], label='Net Product Sales ($)')\n",
    "ax1.set_ylabel(\"Sales ($)\", fontsize=12)\n",
    "ax1.set_title(\"Net Product Sales vs Units Sold by MSKU\", fontsize=14)\n",
    "ax1.set_xlabel(\"MSKU\", fontsize=12)\n",
    "ax1.legend(loc=\"upper left\")\n",
    "\n",
    "# Line chart for Units Sold\n",
    "ax2 = ax1.twinx()\n",
    "ax2.plot(df[\"MSKU\"], df[\"Units Sold\"], color='orange', marker='o', label='Units Sold')\n",
    "ax2.set_ylabel(\"Units Sold\", fontsize=12)\n",
    "ax2.legend(loc=\"upper right\")\n",
    "\n",
    "plt.tight_layout()\n",
    "plt.show()\n"
   ]
  },
  {
   "cell_type": "markdown",
   "id": "b809fadb-d296-4717-a552-4859286b5d6f",
   "metadata": {},
   "source": [
    "---"
   ]
  }
 ],
 "metadata": {
  "kernelspec": {
   "display_name": "Python 3 (ipykernel)",
   "language": "python",
   "name": "python3"
  },
  "language_info": {
   "codemirror_mode": {
    "name": "ipython",
    "version": 3
   },
   "file_extension": ".py",
   "mimetype": "text/x-python",
   "name": "python",
   "nbconvert_exporter": "python",
   "pygments_lexer": "ipython3",
   "version": "3.10.18"
  }
 },
 "nbformat": 4,
 "nbformat_minor": 5
}
